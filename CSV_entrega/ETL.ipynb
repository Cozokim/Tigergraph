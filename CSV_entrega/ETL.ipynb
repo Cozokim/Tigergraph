{
 "cells": [
  {
   "cell_type": "code",
   "execution_count": 2,
   "metadata": {},
   "outputs": [],
   "source": [
    "csv = r\"C:\\Users\\JulienRigot\\OneDrive - LIS Data Solutions\\Escritorio\\code_GORDIAS\\base de datos graph\\Tigergraph\\CSV_entrega\\entrega_demo_test copy.csv\""
   ]
  },
  {
   "cell_type": "code",
   "execution_count": 5,
   "metadata": {},
   "outputs": [],
   "source": [
    "import pandas as pd\n",
    "import numpy as np\n",
    "# Lire le fichier CSV\n",
    "df = pd.read_csv(csv)\n",
    "\n",
    "# Remplacement de la dernière colonne par des valeurs aléatoires entre 2 et 10\n",
    "df[\"Palets\"] = np.random.randint(2, 11, size=len(df))\n",
    "\n",
    "# Sauvegarder le fichier CSV modifié\n",
    "df.to_csv(\"chemin_vers_votre_fichier_modifié.csv\", index=False)\n"
   ]
  },
  {
   "cell_type": "code",
   "execution_count": null,
   "metadata": {},
   "outputs": [],
   "source": []
  }
 ],
 "metadata": {
  "kernelspec": {
   "display_name": ".venv",
   "language": "python",
   "name": "python3"
  },
  "language_info": {
   "codemirror_mode": {
    "name": "ipython",
    "version": 3
   },
   "file_extension": ".py",
   "mimetype": "text/x-python",
   "name": "python",
   "nbconvert_exporter": "python",
   "pygments_lexer": "ipython3",
   "version": "3.12.2"
  }
 },
 "nbformat": 4,
 "nbformat_minor": 2
}
