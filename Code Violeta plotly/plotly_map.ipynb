{
 "cells": [
  {
   "cell_type": "code",
   "execution_count": 1,
   "metadata": {},
   "outputs": [],
   "source": [
    "import networkx as nx\n",
    "import plotly.graph_objects as go\n",
    "import pandas as pd\n",
    "import logging\n",
    "import numpy as np\n",
    "np.random.seed(42)"
   ]
  },
  {
   "cell_type": "code",
   "execution_count": 2,
   "metadata": {},
   "outputs": [],
   "source": [
    "origin_column = 'CentroOrigen'\n",
    "time_column = 'FechaLlegada'\n",
    "destination_column = 'CentroDestino'\n",
    "weight_column = 'Kilos'\n",
    "volume_column = 'Palets'\n",
    "\n",
    "zip_origin = 'PostalOrigen'\n",
    "zip_destination = 'PostalEntrega'"
   ]
  },
  {
   "cell_type": "code",
   "execution_count": 3,
   "metadata": {},
   "outputs": [],
   "source": [
    "raw = pd.read_parquet(r'DatosTransporte_ETL.parquet')\n",
    "latitudes = pd.read_csv(r'listado-codigos-postales-con-LatyLon.csv', sep = ';', dtype={'codigopostalid': 'string'})\n",
    "latitudes.rename(columns={'lat': 'lat1', 'lon': 'lat'}, inplace=True)\n",
    "latitudes.rename(columns={'lat1': 'lon'}, inplace=True)"
   ]
  },
  {
   "cell_type": "code",
   "execution_count": 4,
   "metadata": {},
   "outputs": [],
   "source": [
    "column_dict = {'origin_column': origin_column,\n",
    "            'destination_column': destination_column,\n",
    "            'time_column': time_column,\n",
    "            'volume_column': volume_column,\n",
    "            'weight_column': weight_column\n",
    "            }\n",
    "\n",
    "\n",
    "aggregation_type_dict = {volume_column: 'sum',\n",
    "                        weight_column: 'sum'}"
   ]
  },
  {
   "cell_type": "code",
   "execution_count": 5,
   "metadata": {},
   "outputs": [],
   "source": [
    "\n",
    "def get_kpi_summary(raw, time_column, origin_column, destination_column, frequency, aggregation_type_dict):\n",
    "    ### cambiar columnas por diccionario\n",
    "    raw[time_column] = pd.to_datetime(raw[time_column])\n",
    "    raw.set_index(time_column, inplace=True)\n",
    "    summary = raw.groupby([origin_column, destination_column]).resample(frequency).agg(operation_count = (origin_column, 'count'),\n",
    "                                                                    volume = (volume_column, aggregation_type_dict[volume_column]),\n",
    "                                                                    weight = (weight_column, aggregation_type_dict[weight_column])).reset_index()\n",
    "    aggregated_columns = [k+'_'+aggregation_type_dict[k] for k in aggregation_type_dict]\n",
    "    summary.rename(columns = dict(zip(['volume', 'weight'], aggregated_columns)), inplace=True)\n",
    "    summary= summary[summary['FechaLlegada']=='2021-01-31']\n",
    "    return summary"
   ]
  },
  {
   "cell_type": "code",
   "execution_count": 6,
   "metadata": {},
   "outputs": [],
   "source": [
    "def get_node_coordinates(test, origin_column, zip_origin, destination_column, zip_destination):\n",
    "\n",
    "    #### suponiendo que los CodOriden y fin son unicos\n",
    "    #nodes = set(list(test[origin_column].unique()) + list(test[destination_column].unique()))\n",
    "\n",
    "    origin_nodes = test[[origin_column, zip_origin]].drop_duplicates()\n",
    "    origin_nodes = origin_nodes.merge(latitudes[['codigopostalid', 'lat', 'lon']].drop_duplicates(subset=['codigopostalid']), left_on=zip_origin, \n",
    "                                    right_on='codigopostalid')\n",
    "    destination_nodes = test[[destination_column, zip_destination]].drop_duplicates()\n",
    "    destination_nodes = destination_nodes.merge(latitudes[['codigopostalid', 'lat', 'lon']].drop_duplicates(subset=['codigopostalid']), \n",
    "                                            left_on=zip_destination, right_on='codigopostalid')\n",
    "\n",
    "    origin_nodes.rename(columns = {origin_column: 'Node'}, inplace=True)\n",
    "    destination_nodes.rename(columns = {destination_column: 'Node'}, inplace=True)\n",
    "\n",
    "    node_atts = pd.concat([origin_nodes[['Node', 'lat', 'lon']], destination_nodes[['Node', 'lat', 'lon']]])\n",
    "\n",
    "    if node_atts.shape[0]!=node_atts['Node'].nunique():\n",
    "        node_atts.drop_duplicates(subset=['Node'], inplace=True)\n",
    "\n",
    "    try:\n",
    "        node_dict = node_atts.set_index('Node').to_dict(orient='index')\n",
    "        return node_dict, node_atts\n",
    "    except Exception as e:\n",
    "        logging.error(msg=f'Could not convert to dictionary. The error is {str(e)}')\n",
    "        return None"
   ]
  },
  {
   "cell_type": "code",
   "execution_count": 7,
   "metadata": {},
   "outputs": [],
   "source": [
    "def get_node_kpis(summary, origin_column, destination_column,node_weight = 'operation_count'):\n",
    "    try:\n",
    "        inward_operations = summary.groupby(destination_column)[node_weight].sum().reset_index().rename(columns={destination_column: 'Node', node_weight: node_weight+'_inward'})\n",
    "        outward_operations = summary.groupby(origin_column)[node_weight].sum().reset_index().rename(columns={origin_column: 'Node', node_weight: node_weight+'_outward'})\n",
    "\n",
    "        total_operations = inward_operations.merge(outward_operations, on ='Node', how='outer').fillna(0)\n",
    "        total_operations['total_'+node_weight] = total_operations[node_weight+'_inward'] + total_operations[node_weight+'_outward']\n",
    "\n",
    "        kpi_node_atts = total_operations.set_index('Node').to_dict(orient='index')\n",
    "        return kpi_node_atts\n",
    "    except Exception as e:\n",
    "        logging.error(msg=f'Could not convert KPIs to dictionary. The error is {str(e)}')\n",
    "        return None\n",
    "        "
   ]
  },
  {
   "cell_type": "code",
   "execution_count": 8,
   "metadata": {},
   "outputs": [],
   "source": [
    "node_atts, node_df = get_node_coordinates(raw, origin_column, zip_origin, destination_column, zip_destination)\n",
    "summary = get_kpi_summary(raw, time_column, origin_column, destination_column, 'M', aggregation_type_dict)\n",
    "node_kpis = get_node_kpis(summary, origin_column, destination_column)"
   ]
  },
  {
   "cell_type": "code",
   "execution_count": 9,
   "metadata": {},
   "outputs": [],
   "source": [
    "def build_graph(summary, node_atts, node_kpis):\n",
    "    G = nx.from_pandas_edgelist(\n",
    "    summary,\n",
    "    source=origin_column,\n",
    "    target=destination_column,\n",
    "    edge_attr=True,\n",
    "    create_using=nx.Graph())\n",
    "\n",
    "    nx.set_node_attributes(G, node_atts)\n",
    "\n",
    "    node_text = [str(int(node_kpis[node]['total_operation_count']))+' operations' for node in G.nodes]\n",
    "    node_weights =  [int(node_kpis[node]['total_operation_count']) for node in G.nodes]\n",
    "    kilos = summary['Kilos_sum'].values\n",
    "    edge_texts = [str(k)+' kilograms' for k in kilos]\n",
    "\n",
    "    return G, node_text, node_weights, edge_texts"
   ]
  },
  {
   "cell_type": "code",
   "execution_count": 10,
   "metadata": {},
   "outputs": [],
   "source": [
    "G, node_text, node_weights, edge_texts = build_graph(summary, node_atts, node_kpis)"
   ]
  },
  {
   "cell_type": "code",
   "execution_count": 17,
   "metadata": {},
   "outputs": [
    {
     "ename": "NameError",
     "evalue": "name 'STOP' is not defined",
     "output_type": "error",
     "traceback": [
      "\u001b[1;31m---------------------------------------------------------------------------\u001b[0m",
      "\u001b[1;31mNameError\u001b[0m                                 Traceback (most recent call last)",
      "Cell \u001b[1;32mIn[17], line 1\u001b[0m\n\u001b[1;32m----> 1\u001b[0m \u001b[43mSTOP\u001b[49m\n",
      "\u001b[1;31mNameError\u001b[0m: name 'STOP' is not defined"
     ]
    }
   ],
   "source": [
    "STOP"
   ]
  },
  {
   "cell_type": "code",
   "execution_count": 20,
   "metadata": {},
   "outputs": [],
   "source": [
    "def plot_map_graph(G, node_text, node_weights, edge_texts):\n",
    "    edge_lons = []\n",
    "    edge_lats = []\n",
    "\n",
    "    midpoints_lat = []\n",
    "    midpoints_lon = []\n",
    "    for edge in G.edges():\n",
    "        lon_start, lat_start = G.nodes[edge[0]]['lon'], G.nodes[edge[0]]['lat']\n",
    "        lon_end, lat_end = G.nodes[edge[1]]['lon'], G.nodes[edge[1]]['lat']\n",
    "        edge_lons.extend([lon_start, lon_end, None])  \n",
    "        edge_lats.extend([lat_start, lat_end, None])\n",
    "\n",
    "        midpoint_lat = (lat_start + lat_end) / 2\n",
    "        midpoint_lon = (lon_start + lon_end) / 2\n",
    "        midpoints_lat.append(midpoint_lat)\n",
    "        midpoints_lon.append(midpoint_lon)\n",
    "\n",
    "\n",
    "    fig = go.Figure(go.Scattermapbox(\n",
    "        mode=\"lines\",\n",
    "        lon=edge_lons,\n",
    "        lat=edge_lats,\n",
    "        hoverinfo='text',\n",
    "        line=dict(width=1, color='#888'),\n",
    "        showlegend=False\n",
    "    ))\n",
    "\n",
    "    \n",
    "    fig.add_trace(go.Scattermapbox(\n",
    "    mode='markers',\n",
    "    lon=midpoints_lon,\n",
    "    lat=midpoints_lat,\n",
    "    marker=dict(\n",
    "        size=5,  \n",
    "        color='rgba(0,0,0,0)',  \n",
    "        opacity=0  \n",
    "    ),\n",
    "    hoverinfo='text',\n",
    "    text=edge_texts, \n",
    "))\n",
    "\n",
    "    ############################## NODES ##############################\n",
    "    node_latitudes = [G.nodes[node]['lat'] for node in G.nodes()]\n",
    "    node_longitudes = [G.nodes[node]['lon'] for node in G.nodes()]\n",
    "    fig.add_trace(go.Scattermapbox(\n",
    "            mode=\"markers\",\n",
    "            lon=node_longitudes,\n",
    "            lat=node_latitudes,\n",
    "            text=node_text,\n",
    "            hoverinfo='text', \n",
    "            marker=dict(\n",
    "                showscale=True,\n",
    "                colorscale='bluered',\n",
    "                color=node_weights,\n",
    "                colorbar=\n",
    "                dict(\n",
    "                    title=\"Node weight\",\n",
    "                    nticks=24,\n",
    "                    tickfont=dict(color=\"#d8d8d8\"),\n",
    "                    titlefont=dict(color=\"#d8d8d8\"),\n",
    "                    thicknessmode=\"pixels\"\n",
    "                ),\n",
    "                size=20),\n",
    "                showlegend=False,\n",
    "            textposition=\"bottom right\"\n",
    "        ))\n",
    "    \n",
    "\n",
    "    fig.update_layout(\n",
    "        mapbox_style=\"carto-positron\",\n",
    "        mapbox_zoom=5,\n",
    "        margin=dict(l=0, r=0, t=0, b=0),\n",
    "        mapbox_center = {\"lat\": 43.42461111 , \"lon\": -3.522916667}\n",
    "    )\n",
    "\n",
    "    return fig"
   ]
  },
  {
   "cell_type": "code",
   "execution_count": 21,
   "metadata": {},
   "outputs": [
    {
     "data": {
      "application/vnd.plotly.v1+json": {
       "config": {
        "plotlyServerURL": "https://plot.ly"
       },
       "data": [
        {
         "hoverinfo": "text",
         "lat": [
          40.71730276,
          37.38620512,
          null,
          40.71730276,
          43.56183028,
          null,
          40.71730276,
          40.22444743,
          null,
          40.71730276,
          41.41561526,
          null,
          40.71730276,
          41.49913956,
          null,
          40.71730276,
          40.14530976,
          null,
          40.71730276,
          42.32187763,
          null,
          40.71730276,
          28.45164303,
          null,
          40.71730276,
          28.06238287,
          null,
          40.71730276,
          42.31703122,
          null,
          40.71730276,
          36.93602473,
          null,
          40.71730276,
          41.46352787,
          null,
          40.71730276,
          43.30713889,
          null,
          40.71730276,
          38.97390781,
          null,
          40.71730276,
          42.31736592,
          null,
          40.71730276,
          37.33611796,
          null,
          40.71730276,
          42.54038386,
          null,
          40.71730276,
          36.93059265,
          null,
          40.71730276,
          37.87954225,
          null,
          40.71730276,
          41.52811993,
          null,
          40.71730276,
          42.5892188,
          null,
          40.71730276,
          42.96877112,
          null,
          40.71730276,
          40.84171517,
          null,
          40.71730276,
          39.68725234,
          null,
          40.71730276,
          43.68469444,
          null,
          40.71730276,
          42.87290315,
          null,
          40.71730276,
          42.59385976,
          null,
          40.71730276,
          42.23588559,
          null,
          40.71730276,
          40.70974359,
          null,
          40.71730276,
          42.07568107,
          null,
          40.71730276,
          40.84230462,
          null,
          40.71730276,
          43.25363001,
          null,
          40.71730276,
          41.36577291,
          null,
          40.71730276,
          43.18889063,
          null,
          40.71730276,
          40.51919829,
          null,
          40.71730276,
          41.9008495,
          null,
          40.71730276,
          36.93758369,
          null,
          40.71730276,
          42.4217374,
          null,
          40.71730276,
          38.99588053,
          null,
          40.71730276,
          42.50184469,
          null,
          40.71730276,
          40.80248904,
          null,
          40.71730276,
          40.33174382,
          null,
          40.71730276,
          37.06231421,
          null,
          40.71730276,
          40.47607893,
          null,
          40.71730276,
          28.09912229,
          null,
          40.71730276,
          41.96104308,
          null,
          40.71730276,
          40.95126246,
          null,
          40.71730276,
          40.88303465,
          null,
          40.71730276,
          42.81904208,
          null,
          40.71730276,
          40.33174382,
          null,
          40.71730276,
          43.30713889,
          null
         ],
         "line": {
          "color": "#888",
          "width": 1
         },
         "lon": [
          0.73844369,
          -5.99251368,
          null,
          0.73844369,
          -8.015440303,
          null,
          0.73844369,
          -0.92912557,
          null,
          0.73844369,
          -5.87775426,
          null,
          0.73844369,
          -5.75494831,
          null,
          0.73844369,
          -2.69166859,
          null,
          0.73844369,
          2.01810371,
          null,
          0.73844369,
          -16.4444328,
          null,
          0.73844369,
          -17.23786066,
          null,
          0.73844369,
          -4.39601646,
          null,
          0.73844369,
          -3.32575754,
          null,
          0.73844369,
          1.02457018,
          null,
          0.73844369,
          -4.471222222,
          null,
          0.73844369,
          -5.79980751,
          null,
          0.73844369,
          -2.76005581,
          null,
          0.73844369,
          -2.59756879,
          null,
          0.73844369,
          -8.544008172,
          null,
          0.73844369,
          -3.25417487,
          null,
          0.73844369,
          -4.78032455,
          null,
          0.73844369,
          2.23596848,
          null,
          0.73844369,
          -8.590855639,
          null,
          0.73844369,
          -8.441861917,
          null,
          0.73844369,
          -2.89188975,
          null,
          0.73844369,
          2.51404544,
          null,
          0.73844369,
          -7.854611111,
          null,
          0.73844369,
          -7.063501831,
          null,
          0.73844369,
          1.13216716,
          null,
          0.73844369,
          -8.726788225,
          null,
          0.73844369,
          -6.14229505,
          null,
          0.73844369,
          -6.70162377,
          null,
          0.73844369,
          -3.37206814,
          null,
          0.73844369,
          -5.7779978,
          null,
          0.73844369,
          -6.11288886,
          null,
          0.73844369,
          -8.470884833,
          null,
          0.73844369,
          -2.19178825,
          null,
          0.73844369,
          1.87846147,
          null,
          0.73844369,
          -3.2949278,
          null,
          0.73844369,
          -1.6226962,
          null,
          0.73844369,
          -1.85574745,
          null,
          0.73844369,
          -5.89642113,
          null,
          0.73844369,
          -0.69660308,
          null,
          0.73844369,
          -3.76655557,
          null,
          0.73844369,
          -3.76129307,
          null,
          0.73844369,
          -4.64114216,
          null,
          0.73844369,
          -16.67960607,
          null,
          0.73844369,
          -0.00282676,
          null,
          0.73844369,
          -5.40597336,
          null,
          0.73844369,
          -2.81868274,
          null,
          0.73844369,
          -4.50934574,
          null,
          0.73844369,
          -3.76655557,
          null,
          0.73844369,
          -4.471222222,
          null
         ],
         "mode": "lines",
         "showlegend": false,
         "type": "scattermapbox"
        },
        {
         "hoverinfo": "text",
         "lat": [
          39.05175394,
          42.13956652,
          40.470875095,
          41.06645901,
          41.10822116,
          40.43130626,
          41.519590195000006,
          34.584472895000005,
          34.389842815,
          41.51716699,
          38.826663745000005,
          41.090415315,
          42.012220825,
          39.845605285000005,
          41.517334340000005,
          39.02671036,
          41.62884331,
          38.823947705,
          39.298422505000005,
          41.122711345,
          41.65326078,
          41.843036940000005,
          40.779508965000005,
          40.202277550000005,
          42.200998600000005,
          41.795102955000004,
          41.655581260000005,
          41.476594175,
          40.713523175000006,
          41.396491915,
          40.77980369,
          41.985466385,
          41.041537835,
          41.953096695,
          40.618250525,
          41.30907613,
          38.827443224999996,
          41.569520080000004,
          39.856591645,
          41.609573725000004,
          40.759895900000004,
          40.524523290000005,
          38.889808485,
          40.596690845,
          34.408212525,
          41.33917292,
          40.83428261,
          40.800168705000004,
          41.76817242,
          40.524523290000005,
          42.012220825
         ],
         "lon": [
          -2.627034995,
          -3.6384983065,
          -0.09534093999999999,
          -2.5696552849999996,
          -2.5082523099999996,
          -0.97661245,
          1.3782737,
          -7.852994555,
          -8.249708485,
          -1.8287863850000001,
          -1.293656925,
          0.881506935,
          -1.8663892659999999,
          -2.53068191,
          -1.01080606,
          -0.92956255,
          -3.9027822409999997,
          -1.25786559,
          -2.0209404299999996,
          1.487206085,
          -3.9262059745,
          -3.8517091135,
          -1.07672303,
          1.626244565,
          -3.5580837105,
          -3.1625290704999998,
          0.935305425,
          -3.9941722674999998,
          -2.7019256800000004,
          -2.9815900400000004,
          -1.316812225,
          -2.5197770549999996,
          -2.6872225849999998,
          -3.8662205714999995,
          -0.7266722800000001,
          1.30845258,
          -1.278242055,
          -0.442126255,
          -0.55865188,
          -2.57898872,
          0.020920304999999972,
          -1.51405594,
          -1.51142469,
          -1.9513492350000001,
          -7.970581189999999,
          0.367808465,
          -2.333764835,
          -1.040119525,
          -1.8854510249999998,
          -1.51405594,
          -1.8663892659999999
         ],
         "marker": {
          "color": "rgba(0,0,0,0)",
          "opacity": 0,
          "size": 5
         },
         "mode": "markers",
         "text": [
          "62644.964 kilograms",
          "58474.301 kilograms",
          "187462.01 kilograms",
          "56556.834 kilograms",
          "37996.663 kilograms",
          "164146.818 kilograms",
          "58244.943 kilograms",
          "733728.968 kilograms",
          "8597.191 kilograms",
          "53998.085 kilograms",
          "1362016.146 kilograms",
          "37457.757 kilograms",
          "63337.175 kilograms",
          "96796.023 kilograms",
          "91506.039 kilograms",
          "70142.053 kilograms",
          "22351.454999999998 kilograms",
          "95174.277 kilograms",
          "101095.82 kilograms",
          "126019.223 kilograms",
          "36711.224 kilograms",
          "71632.704 kilograms",
          "59890.090000000004 kilograms",
          "70090.797 kilograms",
          "48609.811 kilograms",
          "1959333.852 kilograms",
          "183928.956 kilograms",
          "204565.089 kilograms",
          "131927.13 kilograms",
          "31106.167 kilograms",
          "129003.729 kilograms",
          "44131.858 kilograms",
          "127696.522 kilograms",
          "59842.264 kilograms",
          "44379.929 kilograms",
          "79365.079 kilograms",
          "27724.407 kilograms",
          "234109.044 kilograms",
          "110501.49 kilograms",
          "229851.561 kilograms",
          "22587.222 kilograms",
          "342413.97 kilograms",
          "134085.016 kilograms",
          "137010.527 kilograms",
          "289619.164 kilograms",
          "12584.712 kilograms",
          "119693.513 kilograms",
          "142259.581 kilograms",
          "121103.817 kilograms",
          "15499.845 kilograms",
          "25624.861 kilograms"
         ],
         "type": "scattermapbox"
        },
        {
         "hoverinfo": "text",
         "lat": [
          40.71730276,
          37.38620512,
          43.56183028,
          40.22444743,
          41.41561526,
          41.49913956,
          40.14530976,
          42.32187763,
          28.45164303,
          28.06238287,
          42.31703122,
          36.93602473,
          41.46352787,
          43.30713889,
          38.97390781,
          42.31736592,
          37.33611796,
          42.54038386,
          36.93059265,
          37.87954225,
          41.52811993,
          42.5892188,
          42.96877112,
          40.84171517,
          39.68725234,
          43.68469444,
          42.87290315,
          42.59385976,
          42.23588559,
          40.70974359,
          42.07568107,
          40.84230462,
          43.25363001,
          41.36577291,
          43.18889063,
          40.51919829,
          41.9008495,
          36.93758369,
          42.4217374,
          38.99588053,
          42.50184469,
          40.80248904,
          40.33174382,
          37.06231421,
          40.47607893,
          28.09912229,
          41.96104308,
          40.95126246,
          40.88303465,
          42.81904208,
          40.33174382,
          43.30713889
         ],
         "lon": [
          0.73844369,
          -5.99251368,
          -8.015440303,
          -0.92912557,
          -5.87775426,
          -5.75494831,
          -2.69166859,
          2.01810371,
          -16.4444328,
          -17.23786066,
          -4.39601646,
          -3.32575754,
          1.02457018,
          -4.471222222,
          -5.79980751,
          -2.76005581,
          -2.59756879,
          -8.544008172,
          -3.25417487,
          -4.78032455,
          2.23596848,
          -8.590855639,
          -8.441861917,
          -2.89188975,
          2.51404544,
          -7.854611111,
          -7.063501831,
          1.13216716,
          -8.726788225,
          -6.14229505,
          -6.70162377,
          -3.37206814,
          -5.7779978,
          -6.11288886,
          -8.470884833,
          -2.19178825,
          1.87846147,
          -3.2949278,
          -1.6226962,
          -1.85574745,
          -5.89642113,
          -0.69660308,
          -3.76655557,
          -3.76129307,
          -4.64114216,
          -16.67960607,
          -0.00282676,
          -5.40597336,
          -2.81868274,
          -4.50934574,
          -3.76655557,
          -4.471222222
         ],
         "marker": {
          "color": [
           83926,
           862,
           607,
           2487,
           650,
           386,
           1115,
           886,
           11970,
           32,
           749,
           305,
           358,
           841,
           775,
           1378,
           812,
           311,
           1318,
           1080,
           1556,
           375,
           562,
           927,
           1117,
           640,
           16413,
           2202,
           1854,
           1534,
           457,
           1926,
           321,
           1672,
           629,
           275,
           1020,
           323,
           2762,
           1668,
           2123,
           206,
           4409,
           1697,
           2197,
           3193,
           57,
           2145,
           1454,
           778,
           169,
           343
          ],
          "colorbar": {
           "nticks": 24,
           "thicknessmode": "pixels",
           "tickfont": {
            "color": "#d8d8d8"
           },
           "title": {
            "font": {
             "color": "#d8d8d8"
            },
            "text": "Node weight"
           }
          },
          "colorscale": [
           [
            0,
            "rgb(0,0,255)"
           ],
           [
            1,
            "rgb(255,0,0)"
           ]
          ],
          "showscale": true,
          "size": 20
         },
         "mode": "markers",
         "showlegend": false,
         "text": [
          "83926 operations",
          "862 operations",
          "607 operations",
          "2487 operations",
          "650 operations",
          "386 operations",
          "1115 operations",
          "886 operations",
          "11970 operations",
          "32 operations",
          "749 operations",
          "305 operations",
          "358 operations",
          "841 operations",
          "775 operations",
          "1378 operations",
          "812 operations",
          "311 operations",
          "1318 operations",
          "1080 operations",
          "1556 operations",
          "375 operations",
          "562 operations",
          "927 operations",
          "1117 operations",
          "640 operations",
          "16413 operations",
          "2202 operations",
          "1854 operations",
          "1534 operations",
          "457 operations",
          "1926 operations",
          "321 operations",
          "1672 operations",
          "629 operations",
          "275 operations",
          "1020 operations",
          "323 operations",
          "2762 operations",
          "1668 operations",
          "2123 operations",
          "206 operations",
          "4409 operations",
          "1697 operations",
          "2197 operations",
          "3193 operations",
          "57 operations",
          "2145 operations",
          "1454 operations",
          "778 operations",
          "169 operations",
          "343 operations"
         ],
         "textposition": "bottom right",
         "type": "scattermapbox"
        }
       ],
       "layout": {
        "mapbox": {
         "center": {
          "lat": 43.42461111,
          "lon": -3.522916667
         },
         "style": "carto-positron",
         "zoom": 5
        },
        "margin": {
         "b": 0,
         "l": 0,
         "r": 0,
         "t": 0
        },
        "template": {
         "data": {
          "bar": [
           {
            "error_x": {
             "color": "#2a3f5f"
            },
            "error_y": {
             "color": "#2a3f5f"
            },
            "marker": {
             "line": {
              "color": "#E5ECF6",
              "width": 0.5
             },
             "pattern": {
              "fillmode": "overlay",
              "size": 10,
              "solidity": 0.2
             }
            },
            "type": "bar"
           }
          ],
          "barpolar": [
           {
            "marker": {
             "line": {
              "color": "#E5ECF6",
              "width": 0.5
             },
             "pattern": {
              "fillmode": "overlay",
              "size": 10,
              "solidity": 0.2
             }
            },
            "type": "barpolar"
           }
          ],
          "carpet": [
           {
            "aaxis": {
             "endlinecolor": "#2a3f5f",
             "gridcolor": "white",
             "linecolor": "white",
             "minorgridcolor": "white",
             "startlinecolor": "#2a3f5f"
            },
            "baxis": {
             "endlinecolor": "#2a3f5f",
             "gridcolor": "white",
             "linecolor": "white",
             "minorgridcolor": "white",
             "startlinecolor": "#2a3f5f"
            },
            "type": "carpet"
           }
          ],
          "choropleth": [
           {
            "colorbar": {
             "outlinewidth": 0,
             "ticks": ""
            },
            "type": "choropleth"
           }
          ],
          "contour": [
           {
            "colorbar": {
             "outlinewidth": 0,
             "ticks": ""
            },
            "colorscale": [
             [
              0,
              "#0d0887"
             ],
             [
              0.1111111111111111,
              "#46039f"
             ],
             [
              0.2222222222222222,
              "#7201a8"
             ],
             [
              0.3333333333333333,
              "#9c179e"
             ],
             [
              0.4444444444444444,
              "#bd3786"
             ],
             [
              0.5555555555555556,
              "#d8576b"
             ],
             [
              0.6666666666666666,
              "#ed7953"
             ],
             [
              0.7777777777777778,
              "#fb9f3a"
             ],
             [
              0.8888888888888888,
              "#fdca26"
             ],
             [
              1,
              "#f0f921"
             ]
            ],
            "type": "contour"
           }
          ],
          "contourcarpet": [
           {
            "colorbar": {
             "outlinewidth": 0,
             "ticks": ""
            },
            "type": "contourcarpet"
           }
          ],
          "heatmap": [
           {
            "colorbar": {
             "outlinewidth": 0,
             "ticks": ""
            },
            "colorscale": [
             [
              0,
              "#0d0887"
             ],
             [
              0.1111111111111111,
              "#46039f"
             ],
             [
              0.2222222222222222,
              "#7201a8"
             ],
             [
              0.3333333333333333,
              "#9c179e"
             ],
             [
              0.4444444444444444,
              "#bd3786"
             ],
             [
              0.5555555555555556,
              "#d8576b"
             ],
             [
              0.6666666666666666,
              "#ed7953"
             ],
             [
              0.7777777777777778,
              "#fb9f3a"
             ],
             [
              0.8888888888888888,
              "#fdca26"
             ],
             [
              1,
              "#f0f921"
             ]
            ],
            "type": "heatmap"
           }
          ],
          "heatmapgl": [
           {
            "colorbar": {
             "outlinewidth": 0,
             "ticks": ""
            },
            "colorscale": [
             [
              0,
              "#0d0887"
             ],
             [
              0.1111111111111111,
              "#46039f"
             ],
             [
              0.2222222222222222,
              "#7201a8"
             ],
             [
              0.3333333333333333,
              "#9c179e"
             ],
             [
              0.4444444444444444,
              "#bd3786"
             ],
             [
              0.5555555555555556,
              "#d8576b"
             ],
             [
              0.6666666666666666,
              "#ed7953"
             ],
             [
              0.7777777777777778,
              "#fb9f3a"
             ],
             [
              0.8888888888888888,
              "#fdca26"
             ],
             [
              1,
              "#f0f921"
             ]
            ],
            "type": "heatmapgl"
           }
          ],
          "histogram": [
           {
            "marker": {
             "pattern": {
              "fillmode": "overlay",
              "size": 10,
              "solidity": 0.2
             }
            },
            "type": "histogram"
           }
          ],
          "histogram2d": [
           {
            "colorbar": {
             "outlinewidth": 0,
             "ticks": ""
            },
            "colorscale": [
             [
              0,
              "#0d0887"
             ],
             [
              0.1111111111111111,
              "#46039f"
             ],
             [
              0.2222222222222222,
              "#7201a8"
             ],
             [
              0.3333333333333333,
              "#9c179e"
             ],
             [
              0.4444444444444444,
              "#bd3786"
             ],
             [
              0.5555555555555556,
              "#d8576b"
             ],
             [
              0.6666666666666666,
              "#ed7953"
             ],
             [
              0.7777777777777778,
              "#fb9f3a"
             ],
             [
              0.8888888888888888,
              "#fdca26"
             ],
             [
              1,
              "#f0f921"
             ]
            ],
            "type": "histogram2d"
           }
          ],
          "histogram2dcontour": [
           {
            "colorbar": {
             "outlinewidth": 0,
             "ticks": ""
            },
            "colorscale": [
             [
              0,
              "#0d0887"
             ],
             [
              0.1111111111111111,
              "#46039f"
             ],
             [
              0.2222222222222222,
              "#7201a8"
             ],
             [
              0.3333333333333333,
              "#9c179e"
             ],
             [
              0.4444444444444444,
              "#bd3786"
             ],
             [
              0.5555555555555556,
              "#d8576b"
             ],
             [
              0.6666666666666666,
              "#ed7953"
             ],
             [
              0.7777777777777778,
              "#fb9f3a"
             ],
             [
              0.8888888888888888,
              "#fdca26"
             ],
             [
              1,
              "#f0f921"
             ]
            ],
            "type": "histogram2dcontour"
           }
          ],
          "mesh3d": [
           {
            "colorbar": {
             "outlinewidth": 0,
             "ticks": ""
            },
            "type": "mesh3d"
           }
          ],
          "parcoords": [
           {
            "line": {
             "colorbar": {
              "outlinewidth": 0,
              "ticks": ""
             }
            },
            "type": "parcoords"
           }
          ],
          "pie": [
           {
            "automargin": true,
            "type": "pie"
           }
          ],
          "scatter": [
           {
            "fillpattern": {
             "fillmode": "overlay",
             "size": 10,
             "solidity": 0.2
            },
            "type": "scatter"
           }
          ],
          "scatter3d": [
           {
            "line": {
             "colorbar": {
              "outlinewidth": 0,
              "ticks": ""
             }
            },
            "marker": {
             "colorbar": {
              "outlinewidth": 0,
              "ticks": ""
             }
            },
            "type": "scatter3d"
           }
          ],
          "scattercarpet": [
           {
            "marker": {
             "colorbar": {
              "outlinewidth": 0,
              "ticks": ""
             }
            },
            "type": "scattercarpet"
           }
          ],
          "scattergeo": [
           {
            "marker": {
             "colorbar": {
              "outlinewidth": 0,
              "ticks": ""
             }
            },
            "type": "scattergeo"
           }
          ],
          "scattergl": [
           {
            "marker": {
             "colorbar": {
              "outlinewidth": 0,
              "ticks": ""
             }
            },
            "type": "scattergl"
           }
          ],
          "scattermapbox": [
           {
            "marker": {
             "colorbar": {
              "outlinewidth": 0,
              "ticks": ""
             }
            },
            "type": "scattermapbox"
           }
          ],
          "scatterpolar": [
           {
            "marker": {
             "colorbar": {
              "outlinewidth": 0,
              "ticks": ""
             }
            },
            "type": "scatterpolar"
           }
          ],
          "scatterpolargl": [
           {
            "marker": {
             "colorbar": {
              "outlinewidth": 0,
              "ticks": ""
             }
            },
            "type": "scatterpolargl"
           }
          ],
          "scatterternary": [
           {
            "marker": {
             "colorbar": {
              "outlinewidth": 0,
              "ticks": ""
             }
            },
            "type": "scatterternary"
           }
          ],
          "surface": [
           {
            "colorbar": {
             "outlinewidth": 0,
             "ticks": ""
            },
            "colorscale": [
             [
              0,
              "#0d0887"
             ],
             [
              0.1111111111111111,
              "#46039f"
             ],
             [
              0.2222222222222222,
              "#7201a8"
             ],
             [
              0.3333333333333333,
              "#9c179e"
             ],
             [
              0.4444444444444444,
              "#bd3786"
             ],
             [
              0.5555555555555556,
              "#d8576b"
             ],
             [
              0.6666666666666666,
              "#ed7953"
             ],
             [
              0.7777777777777778,
              "#fb9f3a"
             ],
             [
              0.8888888888888888,
              "#fdca26"
             ],
             [
              1,
              "#f0f921"
             ]
            ],
            "type": "surface"
           }
          ],
          "table": [
           {
            "cells": {
             "fill": {
              "color": "#EBF0F8"
             },
             "line": {
              "color": "white"
             }
            },
            "header": {
             "fill": {
              "color": "#C8D4E3"
             },
             "line": {
              "color": "white"
             }
            },
            "type": "table"
           }
          ]
         },
         "layout": {
          "annotationdefaults": {
           "arrowcolor": "#2a3f5f",
           "arrowhead": 0,
           "arrowwidth": 1
          },
          "autotypenumbers": "strict",
          "coloraxis": {
           "colorbar": {
            "outlinewidth": 0,
            "ticks": ""
           }
          },
          "colorscale": {
           "diverging": [
            [
             0,
             "#8e0152"
            ],
            [
             0.1,
             "#c51b7d"
            ],
            [
             0.2,
             "#de77ae"
            ],
            [
             0.3,
             "#f1b6da"
            ],
            [
             0.4,
             "#fde0ef"
            ],
            [
             0.5,
             "#f7f7f7"
            ],
            [
             0.6,
             "#e6f5d0"
            ],
            [
             0.7,
             "#b8e186"
            ],
            [
             0.8,
             "#7fbc41"
            ],
            [
             0.9,
             "#4d9221"
            ],
            [
             1,
             "#276419"
            ]
           ],
           "sequential": [
            [
             0,
             "#0d0887"
            ],
            [
             0.1111111111111111,
             "#46039f"
            ],
            [
             0.2222222222222222,
             "#7201a8"
            ],
            [
             0.3333333333333333,
             "#9c179e"
            ],
            [
             0.4444444444444444,
             "#bd3786"
            ],
            [
             0.5555555555555556,
             "#d8576b"
            ],
            [
             0.6666666666666666,
             "#ed7953"
            ],
            [
             0.7777777777777778,
             "#fb9f3a"
            ],
            [
             0.8888888888888888,
             "#fdca26"
            ],
            [
             1,
             "#f0f921"
            ]
           ],
           "sequentialminus": [
            [
             0,
             "#0d0887"
            ],
            [
             0.1111111111111111,
             "#46039f"
            ],
            [
             0.2222222222222222,
             "#7201a8"
            ],
            [
             0.3333333333333333,
             "#9c179e"
            ],
            [
             0.4444444444444444,
             "#bd3786"
            ],
            [
             0.5555555555555556,
             "#d8576b"
            ],
            [
             0.6666666666666666,
             "#ed7953"
            ],
            [
             0.7777777777777778,
             "#fb9f3a"
            ],
            [
             0.8888888888888888,
             "#fdca26"
            ],
            [
             1,
             "#f0f921"
            ]
           ]
          },
          "colorway": [
           "#636efa",
           "#EF553B",
           "#00cc96",
           "#ab63fa",
           "#FFA15A",
           "#19d3f3",
           "#FF6692",
           "#B6E880",
           "#FF97FF",
           "#FECB52"
          ],
          "font": {
           "color": "#2a3f5f"
          },
          "geo": {
           "bgcolor": "white",
           "lakecolor": "white",
           "landcolor": "#E5ECF6",
           "showlakes": true,
           "showland": true,
           "subunitcolor": "white"
          },
          "hoverlabel": {
           "align": "left"
          },
          "hovermode": "closest",
          "mapbox": {
           "style": "light"
          },
          "paper_bgcolor": "white",
          "plot_bgcolor": "#E5ECF6",
          "polar": {
           "angularaxis": {
            "gridcolor": "white",
            "linecolor": "white",
            "ticks": ""
           },
           "bgcolor": "#E5ECF6",
           "radialaxis": {
            "gridcolor": "white",
            "linecolor": "white",
            "ticks": ""
           }
          },
          "scene": {
           "xaxis": {
            "backgroundcolor": "#E5ECF6",
            "gridcolor": "white",
            "gridwidth": 2,
            "linecolor": "white",
            "showbackground": true,
            "ticks": "",
            "zerolinecolor": "white"
           },
           "yaxis": {
            "backgroundcolor": "#E5ECF6",
            "gridcolor": "white",
            "gridwidth": 2,
            "linecolor": "white",
            "showbackground": true,
            "ticks": "",
            "zerolinecolor": "white"
           },
           "zaxis": {
            "backgroundcolor": "#E5ECF6",
            "gridcolor": "white",
            "gridwidth": 2,
            "linecolor": "white",
            "showbackground": true,
            "ticks": "",
            "zerolinecolor": "white"
           }
          },
          "shapedefaults": {
           "line": {
            "color": "#2a3f5f"
           }
          },
          "ternary": {
           "aaxis": {
            "gridcolor": "white",
            "linecolor": "white",
            "ticks": ""
           },
           "baxis": {
            "gridcolor": "white",
            "linecolor": "white",
            "ticks": ""
           },
           "bgcolor": "#E5ECF6",
           "caxis": {
            "gridcolor": "white",
            "linecolor": "white",
            "ticks": ""
           }
          },
          "title": {
           "x": 0.05
          },
          "xaxis": {
           "automargin": true,
           "gridcolor": "white",
           "linecolor": "white",
           "ticks": "",
           "title": {
            "standoff": 15
           },
           "zerolinecolor": "white",
           "zerolinewidth": 2
          },
          "yaxis": {
           "automargin": true,
           "gridcolor": "white",
           "linecolor": "white",
           "ticks": "",
           "title": {
            "standoff": 15
           },
           "zerolinecolor": "white",
           "zerolinewidth": 2
          }
         }
        }
       }
      }
     },
     "metadata": {},
     "output_type": "display_data"
    }
   ],
   "source": [
    "plot_map_graph(G, node_text, node_weights, edge_texts)"
   ]
  },
  {
   "cell_type": "code",
   "execution_count": 26,
   "metadata": {},
   "outputs": [],
   "source": [
    "def map_app(G, node_text, node_weights, edge_texts):\n",
    "    fig = plot_map_graph(G, node_text, node_weights, edge_texts)\n",
    "    return fig"
   ]
  },
  {
   "cell_type": "code",
   "execution_count": 25,
   "metadata": {},
   "outputs": [
    {
     "ename": "AttributeError",
     "evalue": "'Graph' object has no attribute '_id'",
     "output_type": "error",
     "traceback": [
      "\u001b[1;31m---------------------------------------------------------------------------\u001b[0m",
      "\u001b[1;31mAttributeError\u001b[0m                            Traceback (most recent call last)",
      "Cell \u001b[1;32mIn[25], line 10\u001b[0m\n\u001b[0;32m      8\u001b[0m         btn \u001b[38;5;241m=\u001b[39m gr\u001b[38;5;241m.\u001b[39mButton(value\u001b[38;5;241m=\u001b[39m\u001b[38;5;124m\"\u001b[39m\u001b[38;5;124mUpdate Filter\u001b[39m\u001b[38;5;124m\"\u001b[39m)\n\u001b[0;32m      9\u001b[0m         \u001b[38;5;28mmap\u001b[39m \u001b[38;5;241m=\u001b[39m gr\u001b[38;5;241m.\u001b[39mPlot()\n\u001b[1;32m---> 10\u001b[0m     \u001b[43mdemo\u001b[49m\u001b[38;5;241;43m.\u001b[39;49m\u001b[43mload\u001b[49m\u001b[43m(\u001b[49m\u001b[43mplot_map_graph\u001b[49m\u001b[43m,\u001b[49m\u001b[43m \u001b[49m\u001b[43m[\u001b[49m\u001b[43mG\u001b[49m\u001b[43m,\u001b[49m\u001b[43mnode_text\u001b[49m\u001b[43m,\u001b[49m\u001b[43m \u001b[49m\u001b[43mnode_weights\u001b[49m\u001b[43m,\u001b[49m\u001b[43m \u001b[49m\u001b[43medge_texts\u001b[49m\u001b[43m]\u001b[49m\u001b[43m,\u001b[49m\u001b[43m \u001b[49m\u001b[38;5;28;43mmap\u001b[39;49m\u001b[43m)\u001b[49m\n\u001b[0;32m     11\u001b[0m     btn\u001b[38;5;241m.\u001b[39mclick(plot_map_graph, [G,node_text, node_weights, edge_texts], \u001b[38;5;28mmap\u001b[39m)\n\u001b[0;32m     13\u001b[0m demo\u001b[38;5;241m.\u001b[39mlaunch()\n",
      "File \u001b[1;32mc:\\Users\\JulienRigot\\Projets\\zzEnvs\\Transport\\Lib\\site-packages\\gradio\\events.py:295\u001b[0m, in \u001b[0;36mEventListener._setup.<locals>.event_trigger\u001b[1;34m(block, fn, inputs, outputs, api_name, scroll_to_output, show_progress, queue, batch, max_batch_size, preprocess, postprocess, cancels, every, trigger_mode, js, concurrency_limit, concurrency_id, show_api)\u001b[0m\n\u001b[0;32m    290\u001b[0m \u001b[38;5;28;01mif\u001b[39;00m Context\u001b[38;5;241m.\u001b[39mroot_block \u001b[38;5;129;01mis\u001b[39;00m \u001b[38;5;28;01mNone\u001b[39;00m:\n\u001b[0;32m    291\u001b[0m     \u001b[38;5;28;01mraise\u001b[39;00m \u001b[38;5;167;01mAttributeError\u001b[39;00m(\n\u001b[0;32m    292\u001b[0m         \u001b[38;5;124mf\u001b[39m\u001b[38;5;124m\"\u001b[39m\u001b[38;5;124mCannot call \u001b[39m\u001b[38;5;132;01m{\u001b[39;00m_event_name\u001b[38;5;132;01m}\u001b[39;00m\u001b[38;5;124m outside of a gradio.Blocks context.\u001b[39m\u001b[38;5;124m\"\u001b[39m\n\u001b[0;32m    293\u001b[0m     )\n\u001b[1;32m--> 295\u001b[0m dep, dep_index \u001b[38;5;241m=\u001b[39m \u001b[43mContext\u001b[49m\u001b[38;5;241;43m.\u001b[39;49m\u001b[43mroot_block\u001b[49m\u001b[38;5;241;43m.\u001b[39;49m\u001b[43mset_event_trigger\u001b[49m\u001b[43m(\u001b[49m\n\u001b[0;32m    296\u001b[0m \u001b[43m    \u001b[49m\u001b[43m[\u001b[49m\u001b[43mEventListenerMethod\u001b[49m\u001b[43m(\u001b[49m\u001b[43mblock\u001b[49m\u001b[43m \u001b[49m\u001b[38;5;28;43;01mif\u001b[39;49;00m\u001b[43m \u001b[49m\u001b[43m_has_trigger\u001b[49m\u001b[43m \u001b[49m\u001b[38;5;28;43;01melse\u001b[39;49;00m\u001b[43m \u001b[49m\u001b[38;5;28;43;01mNone\u001b[39;49;00m\u001b[43m,\u001b[49m\u001b[43m \u001b[49m\u001b[43m_event_name\u001b[49m\u001b[43m)\u001b[49m\u001b[43m]\u001b[49m\u001b[43m,\u001b[49m\n\u001b[0;32m    297\u001b[0m \u001b[43m    \u001b[49m\u001b[43mfn\u001b[49m\u001b[43m,\u001b[49m\n\u001b[0;32m    298\u001b[0m \u001b[43m    \u001b[49m\u001b[43minputs\u001b[49m\u001b[43m,\u001b[49m\n\u001b[0;32m    299\u001b[0m \u001b[43m    \u001b[49m\u001b[43moutputs\u001b[49m\u001b[43m,\u001b[49m\n\u001b[0;32m    300\u001b[0m \u001b[43m    \u001b[49m\u001b[43mpreprocess\u001b[49m\u001b[38;5;241;43m=\u001b[39;49m\u001b[43mpreprocess\u001b[49m\u001b[43m,\u001b[49m\n\u001b[0;32m    301\u001b[0m \u001b[43m    \u001b[49m\u001b[43mpostprocess\u001b[49m\u001b[38;5;241;43m=\u001b[39;49m\u001b[43mpostprocess\u001b[49m\u001b[43m,\u001b[49m\n\u001b[0;32m    302\u001b[0m \u001b[43m    \u001b[49m\u001b[43mscroll_to_output\u001b[49m\u001b[38;5;241;43m=\u001b[39;49m\u001b[43mscroll_to_output\u001b[49m\u001b[43m,\u001b[49m\n\u001b[0;32m    303\u001b[0m \u001b[43m    \u001b[49m\u001b[43mshow_progress\u001b[49m\u001b[38;5;241;43m=\u001b[39;49m\u001b[43mshow_progress\u001b[49m\u001b[43m,\u001b[49m\n\u001b[0;32m    304\u001b[0m \u001b[43m    \u001b[49m\u001b[43mapi_name\u001b[49m\u001b[38;5;241;43m=\u001b[39;49m\u001b[43mapi_name\u001b[49m\u001b[43m,\u001b[49m\n\u001b[0;32m    305\u001b[0m \u001b[43m    \u001b[49m\u001b[43mjs\u001b[49m\u001b[38;5;241;43m=\u001b[39;49m\u001b[43mjs\u001b[49m\u001b[43m,\u001b[49m\n\u001b[0;32m    306\u001b[0m \u001b[43m    \u001b[49m\u001b[43mconcurrency_limit\u001b[49m\u001b[38;5;241;43m=\u001b[39;49m\u001b[43mconcurrency_limit\u001b[49m\u001b[43m,\u001b[49m\n\u001b[0;32m    307\u001b[0m \u001b[43m    \u001b[49m\u001b[43mconcurrency_id\u001b[49m\u001b[38;5;241;43m=\u001b[39;49m\u001b[43mconcurrency_id\u001b[49m\u001b[43m,\u001b[49m\n\u001b[0;32m    308\u001b[0m \u001b[43m    \u001b[49m\u001b[43mqueue\u001b[49m\u001b[38;5;241;43m=\u001b[39;49m\u001b[43mqueue\u001b[49m\u001b[43m,\u001b[49m\n\u001b[0;32m    309\u001b[0m \u001b[43m    \u001b[49m\u001b[43mbatch\u001b[49m\u001b[38;5;241;43m=\u001b[39;49m\u001b[43mbatch\u001b[49m\u001b[43m,\u001b[49m\n\u001b[0;32m    310\u001b[0m \u001b[43m    \u001b[49m\u001b[43mmax_batch_size\u001b[49m\u001b[38;5;241;43m=\u001b[39;49m\u001b[43mmax_batch_size\u001b[49m\u001b[43m,\u001b[49m\n\u001b[0;32m    311\u001b[0m \u001b[43m    \u001b[49m\u001b[43mevery\u001b[49m\u001b[38;5;241;43m=\u001b[39;49m\u001b[43mevery\u001b[49m\u001b[43m,\u001b[49m\n\u001b[0;32m    312\u001b[0m \u001b[43m    \u001b[49m\u001b[43mtrigger_after\u001b[49m\u001b[38;5;241;43m=\u001b[39;49m\u001b[43m_trigger_after\u001b[49m\u001b[43m,\u001b[49m\n\u001b[0;32m    313\u001b[0m \u001b[43m    \u001b[49m\u001b[43mtrigger_only_on_success\u001b[49m\u001b[38;5;241;43m=\u001b[39;49m\u001b[43m_trigger_only_on_success\u001b[49m\u001b[43m,\u001b[49m\n\u001b[0;32m    314\u001b[0m \u001b[43m    \u001b[49m\u001b[43mtrigger_mode\u001b[49m\u001b[38;5;241;43m=\u001b[39;49m\u001b[43mtrigger_mode\u001b[49m\u001b[43m,\u001b[49m\n\u001b[0;32m    315\u001b[0m \u001b[43m    \u001b[49m\u001b[43mshow_api\u001b[49m\u001b[38;5;241;43m=\u001b[39;49m\u001b[43mshow_api\u001b[49m\u001b[43m,\u001b[49m\n\u001b[0;32m    316\u001b[0m \u001b[43m\u001b[49m\u001b[43m)\u001b[49m\n\u001b[0;32m    317\u001b[0m set_cancel_events(\n\u001b[0;32m    318\u001b[0m     [EventListenerMethod(block \u001b[38;5;28;01mif\u001b[39;00m _has_trigger \u001b[38;5;28;01melse\u001b[39;00m \u001b[38;5;28;01mNone\u001b[39;00m, _event_name)],\n\u001b[0;32m    319\u001b[0m     cancels,\n\u001b[0;32m    320\u001b[0m )\n\u001b[0;32m    321\u001b[0m \u001b[38;5;28;01mif\u001b[39;00m _callback:\n",
      "File \u001b[1;32mc:\\Users\\JulienRigot\\Projets\\zzEnvs\\Transport\\Lib\\site-packages\\gradio\\blocks.py:1129\u001b[0m, in \u001b[0;36mBlocks.set_event_trigger\u001b[1;34m(self, targets, fn, inputs, outputs, preprocess, postprocess, scroll_to_output, show_progress, api_name, js, no_target, queue, batch, max_batch_size, cancels, every, collects_event_data, trigger_after, trigger_only_on_success, trigger_mode, concurrency_limit, concurrency_id, show_api)\u001b[0m\n\u001b[0;32m   1124\u001b[0m \u001b[38;5;28;01mif\u001b[39;00m collects_event_data \u001b[38;5;129;01mis\u001b[39;00m \u001b[38;5;28;01mNone\u001b[39;00m:\n\u001b[0;32m   1125\u001b[0m     collects_event_data \u001b[38;5;241m=\u001b[39m event_data_index \u001b[38;5;129;01mis\u001b[39;00m \u001b[38;5;129;01mnot\u001b[39;00m \u001b[38;5;28;01mNone\u001b[39;00m\n\u001b[0;32m   1127\u001b[0m dependency \u001b[38;5;241m=\u001b[39m {\n\u001b[0;32m   1128\u001b[0m     \u001b[38;5;124m\"\u001b[39m\u001b[38;5;124mtargets\u001b[39m\u001b[38;5;124m\"\u001b[39m: _targets,\n\u001b[1;32m-> 1129\u001b[0m     \u001b[38;5;124m\"\u001b[39m\u001b[38;5;124minputs\u001b[39m\u001b[38;5;124m\"\u001b[39m: \u001b[43m[\u001b[49m\u001b[43mblock\u001b[49m\u001b[38;5;241;43m.\u001b[39;49m\u001b[43m_id\u001b[49m\u001b[43m \u001b[49m\u001b[38;5;28;43;01mfor\u001b[39;49;00m\u001b[43m \u001b[49m\u001b[43mblock\u001b[49m\u001b[43m \u001b[49m\u001b[38;5;129;43;01min\u001b[39;49;00m\u001b[43m \u001b[49m\u001b[43minputs\u001b[49m\u001b[43m]\u001b[49m,\n\u001b[0;32m   1130\u001b[0m     \u001b[38;5;124m\"\u001b[39m\u001b[38;5;124moutputs\u001b[39m\u001b[38;5;124m\"\u001b[39m: [block\u001b[38;5;241m.\u001b[39m_id \u001b[38;5;28;01mfor\u001b[39;00m block \u001b[38;5;129;01min\u001b[39;00m outputs],\n\u001b[0;32m   1131\u001b[0m     \u001b[38;5;124m\"\u001b[39m\u001b[38;5;124mbackend_fn\u001b[39m\u001b[38;5;124m\"\u001b[39m: fn \u001b[38;5;129;01mis\u001b[39;00m \u001b[38;5;129;01mnot\u001b[39;00m \u001b[38;5;28;01mNone\u001b[39;00m,\n\u001b[0;32m   1132\u001b[0m     \u001b[38;5;124m\"\u001b[39m\u001b[38;5;124mjs\u001b[39m\u001b[38;5;124m\"\u001b[39m: js,\n\u001b[0;32m   1133\u001b[0m     \u001b[38;5;124m\"\u001b[39m\u001b[38;5;124mqueue\u001b[39m\u001b[38;5;124m\"\u001b[39m: \u001b[38;5;28;01mFalse\u001b[39;00m \u001b[38;5;28;01mif\u001b[39;00m fn \u001b[38;5;129;01mis\u001b[39;00m \u001b[38;5;28;01mNone\u001b[39;00m \u001b[38;5;28;01melse\u001b[39;00m queue,\n\u001b[0;32m   1134\u001b[0m     \u001b[38;5;124m\"\u001b[39m\u001b[38;5;124mapi_name\u001b[39m\u001b[38;5;124m\"\u001b[39m: api_name,\n\u001b[0;32m   1135\u001b[0m     \u001b[38;5;124m\"\u001b[39m\u001b[38;5;124mscroll_to_output\u001b[39m\u001b[38;5;124m\"\u001b[39m: \u001b[38;5;28;01mFalse\u001b[39;00m \u001b[38;5;28;01mif\u001b[39;00m utils\u001b[38;5;241m.\u001b[39mget_space() \u001b[38;5;28;01melse\u001b[39;00m scroll_to_output,\n\u001b[0;32m   1136\u001b[0m     \u001b[38;5;124m\"\u001b[39m\u001b[38;5;124mshow_progress\u001b[39m\u001b[38;5;124m\"\u001b[39m: show_progress,\n\u001b[0;32m   1137\u001b[0m     \u001b[38;5;124m\"\u001b[39m\u001b[38;5;124mevery\u001b[39m\u001b[38;5;124m\"\u001b[39m: every,\n\u001b[0;32m   1138\u001b[0m     \u001b[38;5;124m\"\u001b[39m\u001b[38;5;124mbatch\u001b[39m\u001b[38;5;124m\"\u001b[39m: batch,\n\u001b[0;32m   1139\u001b[0m     \u001b[38;5;124m\"\u001b[39m\u001b[38;5;124mmax_batch_size\u001b[39m\u001b[38;5;124m\"\u001b[39m: max_batch_size,\n\u001b[0;32m   1140\u001b[0m     \u001b[38;5;124m\"\u001b[39m\u001b[38;5;124mcancels\u001b[39m\u001b[38;5;124m\"\u001b[39m: cancels \u001b[38;5;129;01mor\u001b[39;00m [],\n\u001b[0;32m   1141\u001b[0m     \u001b[38;5;124m\"\u001b[39m\u001b[38;5;124mtypes\u001b[39m\u001b[38;5;124m\"\u001b[39m: {\n\u001b[0;32m   1142\u001b[0m         \u001b[38;5;124m\"\u001b[39m\u001b[38;5;124mcontinuous\u001b[39m\u001b[38;5;124m\"\u001b[39m: \u001b[38;5;28mbool\u001b[39m(every),\n\u001b[0;32m   1143\u001b[0m         \u001b[38;5;124m\"\u001b[39m\u001b[38;5;124mgenerator\u001b[39m\u001b[38;5;124m\"\u001b[39m: inspect\u001b[38;5;241m.\u001b[39misgeneratorfunction(fn)\n\u001b[0;32m   1144\u001b[0m         \u001b[38;5;129;01mor\u001b[39;00m inspect\u001b[38;5;241m.\u001b[39misasyncgenfunction(fn)\n\u001b[0;32m   1145\u001b[0m         \u001b[38;5;129;01mor\u001b[39;00m \u001b[38;5;28mbool\u001b[39m(every),\n\u001b[0;32m   1146\u001b[0m     },\n\u001b[0;32m   1147\u001b[0m     \u001b[38;5;124m\"\u001b[39m\u001b[38;5;124mcollects_event_data\u001b[39m\u001b[38;5;124m\"\u001b[39m: collects_event_data,\n\u001b[0;32m   1148\u001b[0m     \u001b[38;5;124m\"\u001b[39m\u001b[38;5;124mtrigger_after\u001b[39m\u001b[38;5;124m\"\u001b[39m: trigger_after,\n\u001b[0;32m   1149\u001b[0m     \u001b[38;5;124m\"\u001b[39m\u001b[38;5;124mtrigger_only_on_success\u001b[39m\u001b[38;5;124m\"\u001b[39m: trigger_only_on_success,\n\u001b[0;32m   1150\u001b[0m     \u001b[38;5;124m\"\u001b[39m\u001b[38;5;124mtrigger_mode\u001b[39m\u001b[38;5;124m\"\u001b[39m: trigger_mode,\n\u001b[0;32m   1151\u001b[0m     \u001b[38;5;124m\"\u001b[39m\u001b[38;5;124mshow_api\u001b[39m\u001b[38;5;124m\"\u001b[39m: show_api,\n\u001b[0;32m   1152\u001b[0m     \u001b[38;5;124m\"\u001b[39m\u001b[38;5;124mzerogpu\u001b[39m\u001b[38;5;124m\"\u001b[39m: \u001b[38;5;28mhasattr\u001b[39m(fn, \u001b[38;5;124m\"\u001b[39m\u001b[38;5;124mzerogpu\u001b[39m\u001b[38;5;124m\"\u001b[39m),\n\u001b[0;32m   1153\u001b[0m }\n\u001b[0;32m   1154\u001b[0m \u001b[38;5;28mself\u001b[39m\u001b[38;5;241m.\u001b[39mdependencies\u001b[38;5;241m.\u001b[39mappend(dependency)\n\u001b[0;32m   1155\u001b[0m \u001b[38;5;28;01mreturn\u001b[39;00m dependency, \u001b[38;5;28mlen\u001b[39m(\u001b[38;5;28mself\u001b[39m\u001b[38;5;241m.\u001b[39mdependencies) \u001b[38;5;241m-\u001b[39m \u001b[38;5;241m1\u001b[39m\n",
      "File \u001b[1;32mc:\\Users\\JulienRigot\\Projets\\zzEnvs\\Transport\\Lib\\site-packages\\gradio\\blocks.py:1129\u001b[0m, in \u001b[0;36m<listcomp>\u001b[1;34m(.0)\u001b[0m\n\u001b[0;32m   1124\u001b[0m \u001b[38;5;28;01mif\u001b[39;00m collects_event_data \u001b[38;5;129;01mis\u001b[39;00m \u001b[38;5;28;01mNone\u001b[39;00m:\n\u001b[0;32m   1125\u001b[0m     collects_event_data \u001b[38;5;241m=\u001b[39m event_data_index \u001b[38;5;129;01mis\u001b[39;00m \u001b[38;5;129;01mnot\u001b[39;00m \u001b[38;5;28;01mNone\u001b[39;00m\n\u001b[0;32m   1127\u001b[0m dependency \u001b[38;5;241m=\u001b[39m {\n\u001b[0;32m   1128\u001b[0m     \u001b[38;5;124m\"\u001b[39m\u001b[38;5;124mtargets\u001b[39m\u001b[38;5;124m\"\u001b[39m: _targets,\n\u001b[1;32m-> 1129\u001b[0m     \u001b[38;5;124m\"\u001b[39m\u001b[38;5;124minputs\u001b[39m\u001b[38;5;124m\"\u001b[39m: [\u001b[43mblock\u001b[49m\u001b[38;5;241;43m.\u001b[39;49m\u001b[43m_id\u001b[49m \u001b[38;5;28;01mfor\u001b[39;00m block \u001b[38;5;129;01min\u001b[39;00m inputs],\n\u001b[0;32m   1130\u001b[0m     \u001b[38;5;124m\"\u001b[39m\u001b[38;5;124moutputs\u001b[39m\u001b[38;5;124m\"\u001b[39m: [block\u001b[38;5;241m.\u001b[39m_id \u001b[38;5;28;01mfor\u001b[39;00m block \u001b[38;5;129;01min\u001b[39;00m outputs],\n\u001b[0;32m   1131\u001b[0m     \u001b[38;5;124m\"\u001b[39m\u001b[38;5;124mbackend_fn\u001b[39m\u001b[38;5;124m\"\u001b[39m: fn \u001b[38;5;129;01mis\u001b[39;00m \u001b[38;5;129;01mnot\u001b[39;00m \u001b[38;5;28;01mNone\u001b[39;00m,\n\u001b[0;32m   1132\u001b[0m     \u001b[38;5;124m\"\u001b[39m\u001b[38;5;124mjs\u001b[39m\u001b[38;5;124m\"\u001b[39m: js,\n\u001b[0;32m   1133\u001b[0m     \u001b[38;5;124m\"\u001b[39m\u001b[38;5;124mqueue\u001b[39m\u001b[38;5;124m\"\u001b[39m: \u001b[38;5;28;01mFalse\u001b[39;00m \u001b[38;5;28;01mif\u001b[39;00m fn \u001b[38;5;129;01mis\u001b[39;00m \u001b[38;5;28;01mNone\u001b[39;00m \u001b[38;5;28;01melse\u001b[39;00m queue,\n\u001b[0;32m   1134\u001b[0m     \u001b[38;5;124m\"\u001b[39m\u001b[38;5;124mapi_name\u001b[39m\u001b[38;5;124m\"\u001b[39m: api_name,\n\u001b[0;32m   1135\u001b[0m     \u001b[38;5;124m\"\u001b[39m\u001b[38;5;124mscroll_to_output\u001b[39m\u001b[38;5;124m\"\u001b[39m: \u001b[38;5;28;01mFalse\u001b[39;00m \u001b[38;5;28;01mif\u001b[39;00m utils\u001b[38;5;241m.\u001b[39mget_space() \u001b[38;5;28;01melse\u001b[39;00m scroll_to_output,\n\u001b[0;32m   1136\u001b[0m     \u001b[38;5;124m\"\u001b[39m\u001b[38;5;124mshow_progress\u001b[39m\u001b[38;5;124m\"\u001b[39m: show_progress,\n\u001b[0;32m   1137\u001b[0m     \u001b[38;5;124m\"\u001b[39m\u001b[38;5;124mevery\u001b[39m\u001b[38;5;124m\"\u001b[39m: every,\n\u001b[0;32m   1138\u001b[0m     \u001b[38;5;124m\"\u001b[39m\u001b[38;5;124mbatch\u001b[39m\u001b[38;5;124m\"\u001b[39m: batch,\n\u001b[0;32m   1139\u001b[0m     \u001b[38;5;124m\"\u001b[39m\u001b[38;5;124mmax_batch_size\u001b[39m\u001b[38;5;124m\"\u001b[39m: max_batch_size,\n\u001b[0;32m   1140\u001b[0m     \u001b[38;5;124m\"\u001b[39m\u001b[38;5;124mcancels\u001b[39m\u001b[38;5;124m\"\u001b[39m: cancels \u001b[38;5;129;01mor\u001b[39;00m [],\n\u001b[0;32m   1141\u001b[0m     \u001b[38;5;124m\"\u001b[39m\u001b[38;5;124mtypes\u001b[39m\u001b[38;5;124m\"\u001b[39m: {\n\u001b[0;32m   1142\u001b[0m         \u001b[38;5;124m\"\u001b[39m\u001b[38;5;124mcontinuous\u001b[39m\u001b[38;5;124m\"\u001b[39m: \u001b[38;5;28mbool\u001b[39m(every),\n\u001b[0;32m   1143\u001b[0m         \u001b[38;5;124m\"\u001b[39m\u001b[38;5;124mgenerator\u001b[39m\u001b[38;5;124m\"\u001b[39m: inspect\u001b[38;5;241m.\u001b[39misgeneratorfunction(fn)\n\u001b[0;32m   1144\u001b[0m         \u001b[38;5;129;01mor\u001b[39;00m inspect\u001b[38;5;241m.\u001b[39misasyncgenfunction(fn)\n\u001b[0;32m   1145\u001b[0m         \u001b[38;5;129;01mor\u001b[39;00m \u001b[38;5;28mbool\u001b[39m(every),\n\u001b[0;32m   1146\u001b[0m     },\n\u001b[0;32m   1147\u001b[0m     \u001b[38;5;124m\"\u001b[39m\u001b[38;5;124mcollects_event_data\u001b[39m\u001b[38;5;124m\"\u001b[39m: collects_event_data,\n\u001b[0;32m   1148\u001b[0m     \u001b[38;5;124m\"\u001b[39m\u001b[38;5;124mtrigger_after\u001b[39m\u001b[38;5;124m\"\u001b[39m: trigger_after,\n\u001b[0;32m   1149\u001b[0m     \u001b[38;5;124m\"\u001b[39m\u001b[38;5;124mtrigger_only_on_success\u001b[39m\u001b[38;5;124m\"\u001b[39m: trigger_only_on_success,\n\u001b[0;32m   1150\u001b[0m     \u001b[38;5;124m\"\u001b[39m\u001b[38;5;124mtrigger_mode\u001b[39m\u001b[38;5;124m\"\u001b[39m: trigger_mode,\n\u001b[0;32m   1151\u001b[0m     \u001b[38;5;124m\"\u001b[39m\u001b[38;5;124mshow_api\u001b[39m\u001b[38;5;124m\"\u001b[39m: show_api,\n\u001b[0;32m   1152\u001b[0m     \u001b[38;5;124m\"\u001b[39m\u001b[38;5;124mzerogpu\u001b[39m\u001b[38;5;124m\"\u001b[39m: \u001b[38;5;28mhasattr\u001b[39m(fn, \u001b[38;5;124m\"\u001b[39m\u001b[38;5;124mzerogpu\u001b[39m\u001b[38;5;124m\"\u001b[39m),\n\u001b[0;32m   1153\u001b[0m }\n\u001b[0;32m   1154\u001b[0m \u001b[38;5;28mself\u001b[39m\u001b[38;5;241m.\u001b[39mdependencies\u001b[38;5;241m.\u001b[39mappend(dependency)\n\u001b[0;32m   1155\u001b[0m \u001b[38;5;28;01mreturn\u001b[39;00m dependency, \u001b[38;5;28mlen\u001b[39m(\u001b[38;5;28mself\u001b[39m\u001b[38;5;241m.\u001b[39mdependencies) \u001b[38;5;241m-\u001b[39m \u001b[38;5;241m1\u001b[39m\n",
      "\u001b[1;31mAttributeError\u001b[0m: 'Graph' object has no attribute '_id'"
     ]
    }
   ],
   "source": [
    "import gradio as gr\n",
    "with gr.Blocks() as demo:\n",
    "    with gr.Column():\n",
    "        with gr.Row():\n",
    "            min_price = gr.Number(value=250, label=\"Minimum Price\")\n",
    "            max_price = gr.Number(value=1000, label=\"Maximum Price\")\n",
    "        boroughs = gr.CheckboxGroup(choices=[\"Queens\", \"Brooklyn\", \"Manhattan\", \"Bronx\", \"Staten Island\"], value=[\"Queens\", \"Brooklyn\"], label=\"Select Boroughs:\")\n",
    "        btn = gr.Button(value=\"Update Filter\")\n",
    "        map = gr.Plot()\n",
    "    demo.load(plot_map_graph, [G,node_text, node_weights, edge_texts], map)\n",
    "    btn.click(plot_map_graph, [G,node_text, node_weights, edge_texts], map)\n",
    "\n",
    "demo.launch()"
   ]
  },
  {
   "cell_type": "code",
   "execution_count": null,
   "metadata": {},
   "outputs": [],
   "source": []
  }
 ],
 "metadata": {
  "kernelspec": {
   "display_name": "agro_env",
   "language": "python",
   "name": "python3"
  },
  "language_info": {
   "codemirror_mode": {
    "name": "ipython",
    "version": 3
   },
   "file_extension": ".py",
   "mimetype": "text/x-python",
   "name": "python",
   "nbconvert_exporter": "python",
   "pygments_lexer": "ipython3",
   "version": "3.11.0"
  }
 },
 "nbformat": 4,
 "nbformat_minor": 2
}
