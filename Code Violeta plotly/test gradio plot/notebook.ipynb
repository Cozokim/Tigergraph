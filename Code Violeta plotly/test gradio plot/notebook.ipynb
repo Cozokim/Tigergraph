{
 "cells": [
  {
   "cell_type": "code",
   "execution_count": 5,
   "metadata": {},
   "outputs": [
    {
     "name": "stdout",
     "output_type": "stream",
     "text": [
      "Running on local URL:  http://127.0.0.1:7862\n",
      "\n",
      "To create a public link, set `share=True` in `launch()`.\n"
     ]
    },
    {
     "data": {
      "text/html": [
       "<div><iframe src=\"http://127.0.0.1:7862/\" width=\"100%\" height=\"500\" allow=\"autoplay; camera; microphone; clipboard-read; clipboard-write;\" frameborder=\"0\" allowfullscreen></iframe></div>"
      ],
      "text/plain": [
       "<IPython.core.display.HTML object>"
      ]
     },
     "metadata": {},
     "output_type": "display_data"
    },
    {
     "data": {
      "text/plain": []
     },
     "execution_count": 5,
     "metadata": {},
     "output_type": "execute_result"
    }
   ],
   "source": [
    "import gradio as gr\n",
    "import plotly.graph_objects as go\n",
    "from datasets import load_dataset\n",
    "\n",
    "dataset = load_dataset(\"gradio/NYC-Airbnb-Open-Data\", split=\"train\")\n",
    "df = dataset.to_pandas()\n",
    "\n",
    "def filter_map(min_price, max_price, boroughs):\n",
    "\n",
    "    filtered_df = df[(df['neighbourhood_group'].isin(boroughs)) & \n",
    "          (df['price'] > min_price) & (df['price'] < max_price)]\n",
    "    names = filtered_df[\"name\"].tolist()\n",
    "    prices = filtered_df[\"price\"].tolist()\n",
    "    text_list = [(names[i], prices[i]) for i in range(0, len(names))]\n",
    "    fig = go.Figure(go.Scattermapbox(\n",
    "            customdata=text_list,\n",
    "            lat=filtered_df['latitude'].tolist(),\n",
    "            lon=filtered_df['longitude'].tolist(),\n",
    "            mode='markers',\n",
    "            marker=go.scattermapbox.Marker(\n",
    "                size=6\n",
    "            ),\n",
    "            hoverinfo=\"text\",\n",
    "            hovertemplate='<b>Name</b>: %{customdata[0]}<br><b>Price</b>: $%{customdata[1]}'\n",
    "        ))\n",
    "\n",
    "    fig.update_layout(\n",
    "        mapbox_style=\"open-street-map\",\n",
    "        hovermode='closest',\n",
    "        mapbox=dict(\n",
    "            bearing=0,\n",
    "            center=go.layout.mapbox.Center(\n",
    "                lat=40.67,\n",
    "                lon=-73.90\n",
    "            ),\n",
    "            pitch=0,\n",
    "            zoom=9\n",
    "        ),\n",
    "    )\n",
    "\n",
    "    return fig\n",
    "\n",
    "with gr.Blocks() as demo:\n",
    "    with gr.Column():\n",
    "        with gr.Row():\n",
    "            min_price = gr.Number(value=250, label=\"Minimum Price\")\n",
    "            max_price = gr.Number(value=1000, label=\"Maximum Price\")\n",
    "        boroughs = gr.CheckboxGroup(choices=[\"Queens\", \"Brooklyn\", \"Manhattan\", \"Bronx\", \"Staten Island\"], value=[\"Queens\", \"Brooklyn\"], label=\"Select Boroughs:\")\n",
    "        btn = gr.Button(value=\"Update Filter\")\n",
    "        map = gr.Plot()\n",
    "    demo.load(filter_map, [min_price, max_price, boroughs], map)\n",
    "    btn.click(filter_map, [min_price, max_price, boroughs], map)\n",
    "\n",
    "demo.launch()"
   ]
  }
 ],
 "metadata": {
  "kernelspec": {
   "display_name": "Python 3",
   "language": "python",
   "name": "python3"
  },
  "language_info": {
   "codemirror_mode": {
    "name": "ipython",
    "version": 3
   },
   "file_extension": ".py",
   "mimetype": "text/x-python",
   "name": "python",
   "nbconvert_exporter": "python",
   "pygments_lexer": "ipython3",
   "version": "3.11.0"
  }
 },
 "nbformat": 4,
 "nbformat_minor": 2
}
