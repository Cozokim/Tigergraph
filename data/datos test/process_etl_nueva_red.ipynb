{
 "cells": [
  {
   "cell_type": "code",
   "execution_count": 1,
   "metadata": {},
   "outputs": [],
   "source": [
    "csv_nodes = r\"C:\\Users\\JulienRigot\\OneDrive - LIS Data Solutions\\Escritorio\\code_GORDIAS\\base de datos graph\\Tigergraph\\data\\datos test\\nodes_network copy.csv\"\n",
    "csv_edges = r\"C:\\Users\\JulienRigot\\OneDrive - LIS Data Solutions\\Escritorio\\code_GORDIAS\\base de datos graph\\Tigergraph\\data\\datos test\\links_network copy.csv\""
   ]
  },
  {
   "cell_type": "code",
   "execution_count": 2,
   "metadata": {},
   "outputs": [],
   "source": [
    "import pandas as pd\n",
    "\n",
    "def remove_occurrences(value_to_remove, csv_nodes, csv_edges):\n",
    "    # Charger les fichiers CSV\n",
    "    df_nodes = pd.read_csv(csv_nodes)\n",
    "    df_edges = pd.read_csv(csv_edges)\n",
    "    \n",
    "    # Filtrer les lignes des deux DataFrames en supprimant celles qui contiennent la valeur spécifiée\n",
    "    df_nodes = df_nodes[~df_nodes.apply(lambda row: row.astype(str).str.contains(value_to_remove, case=False)).any(axis=1)]\n",
    "    df_edges = df_edges[~df_edges.apply(lambda row: row.astype(str).str.contains(value_to_remove, case=False)).any(axis=1)]\n",
    "    \n",
    "    # Sauvegarder les fichiers CSV sans les occurrences\n",
    "    df_nodes.to_csv(csv_nodes, index=False)\n",
    "    df_edges.to_csv(csv_edges, index=False)\n",
    "    \n",
    "    print(f\"Toutes les occurrences de '{value_to_remove}' ont été supprimées des fichiers CSV.\")\n"
   ]
  },
  {
   "cell_type": "code",
   "execution_count": 15,
   "metadata": {},
   "outputs": [
    {
     "name": "stdout",
     "output_type": "stream",
     "text": [
      "Toutes les occurrences de 'Palma' ont été supprimées des fichiers CSV.\n"
     ]
    }
   ],
   "source": [
    "remove_occurrences(\"Palma\", csv_nodes, csv_edges)"
   ]
  }
 ],
 "metadata": {
  "kernelspec": {
   "display_name": ".venv",
   "language": "python",
   "name": "python3"
  },
  "language_info": {
   "codemirror_mode": {
    "name": "ipython",
    "version": 3
   },
   "file_extension": ".py",
   "mimetype": "text/x-python",
   "name": "python",
   "nbconvert_exporter": "python",
   "pygments_lexer": "ipython3",
   "version": "3.12.2"
  }
 },
 "nbformat": 4,
 "nbformat_minor": 2
}
