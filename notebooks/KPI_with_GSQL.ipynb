{
 "cells": [
  {
   "cell_type": "code",
   "execution_count": 1,
   "metadata": {},
   "outputs": [
    {
     "name": "stderr",
     "output_type": "stream",
     "text": [
      "c:\\Users\\JulienRigot\\OneDrive - LIS Data Solutions\\Escritorio\\code_GORDIAS\\.venv\\Lib\\site-packages\\pyTigerGraph\\pyTigerGraphAuth.py:264: DeprecationWarning: datetime.datetime.utcfromtimestamp() is deprecated and scheduled for removal in a future version. Use timezone-aware objects to represent datetimes in UTC: datetime.datetime.fromtimestamp(timestamp, datetime.UTC).\n",
      "  datetime.utcfromtimestamp(float(res.get(\"expiration\"))).strftime('%Y-%m-%d %H:%M:%S')\n"
     ]
    },
    {
     "data": {
      "text/plain": [
       "('m078mm1echr0nieho5rdb7rc8icuosln', 1732806365, '2024-11-28 15:06:05')"
      ]
     },
     "execution_count": 1,
     "metadata": {},
     "output_type": "execute_result"
    }
   ],
   "source": [
    "import pyTigerGraph as tg\n",
    "\n",
    "hostName = \"https://director-lisdatasolutions.i.tgcloud.io\"\n",
    "graphName = \"transport_demo\"\n",
    "secret = \"kafpkc24og8jumuqcj8asnt2cm2g4h09\"\n",
    "userName = \"user_1\"\n",
    "password = \"A1z2e3r4*\"\n",
    "conn = tg.TigerGraphConnection(host=hostName, graphname=graphName, username=userName, password=password)\n",
    "conn.getToken(secret)"
   ]
  },
  {
   "cell_type": "markdown",
   "metadata": {},
   "source": [
    "# Count distribute to "
   ]
  },
  {
   "cell_type": "code",
   "execution_count": 6,
   "metadata": {},
   "outputs": [],
   "source": [
    "result = conn.getEdgeCount(\"distribute_to\")"
   ]
  },
  {
   "cell_type": "code",
   "execution_count": 7,
   "metadata": {},
   "outputs": [
    {
     "data": {
      "text/plain": [
       "29"
      ]
     },
     "execution_count": 7,
     "metadata": {},
     "output_type": "execute_result"
    }
   ],
   "source": [
    "result"
   ]
  },
  {
   "cell_type": "code",
   "execution_count": 12,
   "metadata": {},
   "outputs": [],
   "source": [
    "results_test = conn.runInstalledQuery(\"get_distribute_to\")"
   ]
  },
  {
   "cell_type": "code",
   "execution_count": 15,
   "metadata": {},
   "outputs": [
    {
     "data": {
      "text/plain": [
       "26"
      ]
     },
     "execution_count": 15,
     "metadata": {},
     "output_type": "execute_result"
    }
   ],
   "source": [
    "results_test[0][\"@@total_nodes\"]"
   ]
  },
  {
   "cell_type": "code",
   "execution_count": 19,
   "metadata": {},
   "outputs": [],
   "source": [
    "results_test = conn.runInstalledQuery(\"capacity_total_distribute_to\")"
   ]
  },
  {
   "cell_type": "code",
   "execution_count": 25,
   "metadata": {},
   "outputs": [],
   "source": [
    "result_query = conn.runInstalledQuery(\"stock_total_nodes\")\n"
   ]
  },
  {
   "cell_type": "code",
   "execution_count": 26,
   "metadata": {},
   "outputs": [
    {
     "data": {
      "text/plain": [
       "[{'@@total_stock': 1494.1}]"
      ]
     },
     "execution_count": 26,
     "metadata": {},
     "output_type": "execute_result"
    }
   ],
   "source": [
    "result_query"
   ]
  },
  {
   "cell_type": "code",
   "execution_count": 39,
   "metadata": {},
   "outputs": [],
   "source": [
    "vertex_type = \"Nodes\"\n",
    "result_query = conn.runInstalledQuery(\"get_quantity_of_nodes\",params={\"v_type_set\" : vertex_type})\n"
   ]
  },
  {
   "cell_type": "code",
   "execution_count": 47,
   "metadata": {},
   "outputs": [],
   "source": [
    "edge_type = \"distribute_to\""
   ]
  },
  {
   "cell_type": "code",
   "execution_count": 49,
   "metadata": {},
   "outputs": [],
   "source": [
    "result_query = conn.runInstalledQuery(\"capacity_average_edge\",params={\"e_type_set\" : edge_type})"
   ]
  },
  {
   "cell_type": "code",
   "execution_count": 2,
   "metadata": {},
   "outputs": [],
   "source": [
    "\n",
    "import concurrent.futures\n",
    "from fastapi import HTTPException\n",
    "from fastapi.responses import JSONResponse\n",
    "\n",
    "def get_num_edges(conn,edge_type):\n",
    "    \"\"\"\n",
    "    Get the count of edges for a given edge name.\n",
    "\n",
    "    Parameters:\n",
    "        conn: The connection object to the database.\n",
    "        edge_name: The name of the edge.\n",
    "\n",
    "    Returns:\n",
    "        int: The number of edges.\n",
    "    \"\"\"\n",
    "    result_query = conn.runInstalledQuery(\"get_quantity_of_edges\",params={\"e_type_set\" : edge_type})\n",
    "    return result_query[0][\"@@edge_count\"]\n",
    "\n",
    "def get_num_nodes(conn,vertex_type):\n",
    "    \"\"\"\n",
    "    Get the count of nodes for a given node name.\n",
    "\n",
    "    Parameters:\n",
    "        conn: The connection object to the database.\n",
    "        node_name: The name of the node.\n",
    "\n",
    "    Returns:\n",
    "        int: The number of nodes.\n",
    "    \"\"\"\n",
    "    result_query = conn.runInstalledQuery(\"get_quantity_of_nodes\",params={\"v_type_set\" : vertex_type})\n",
    "    return result_query[0][\"@@total_nodes\"]\n",
    "\n",
    "def get_avg_capacity(conn,edge_type):\n",
    "    \"\"\"\n",
    "    Get the average capacity of a given edge.\n",
    "\n",
    "    Parameters:\n",
    "        conn: The connection object to the database.\n",
    "        edge_name: The name of the edge.\n",
    "\n",
    "    Returns:\n",
    "        float: The average capacity \n",
    "    \"\"\"\n",
    "    result_query = conn.runInstalledQuery(\"capacity_average_edge\",params={\"e_type_set\" : edge_type})    \n",
    "    return result_query[0][\"average_capacity_edge\"]\n",
    "\n",
    "def get_total_capacity_edges(conn,edge_type):\n",
    "    \"\"\"\n",
    "    Get the total capacity of all edges of a given edge type.\n",
    "\n",
    "    Parameters:\n",
    "        conn: The connection object to the database.\n",
    "        edge_name: The name of the edge.\n",
    "\n",
    "    Returns:\n",
    "        float: The total capacity of the edges divided by 2.\n",
    "    \"\"\"\n",
    "    result_query = conn.runInstalledQuery(\"capacity_total_edges\",params={\"e_type_set\" : edge_type})\n",
    "    return result_query[0][\"@@total_capacity_edge\"]\n",
    "\n",
    "def get_total_capacity_nodes(conn,node_type):\n",
    "    \"\"\"\n",
    "    Get the total capacity of all nodes of a given node type.\n",
    "\n",
    "    Parameters:\n",
    "        conn: The connection object to the database.\n",
    "        node_name: The name of the node.\n",
    "\n",
    "    Returns:\n",
    "        float: The total capacity of the nodes, rounded to 1 decimal.\n",
    "    \"\"\"\n",
    "    result_query = conn.runInstalledQuery(\"capacity_total_nodes\",params={\"v_type_set\" : node_type})\n",
    "    return result_query[0][\"@@total_capacity\"]\n",
    "\n",
    "def get_total_stock(conn,vertex_type):\n",
    "    \"\"\"\n",
    "    Get the total stock of all nodes of a given node type.\n",
    "\n",
    "    Parameters:\n",
    "        conn: The connection object to the database.\n",
    "        node_name: The name of the node.\n",
    "\n",
    "    Returns:\n",
    "        float: The total stock of the nodes, rounded to the nearest integer.\n",
    "    \"\"\"\n",
    "    result_query = conn.runInstalledQuery(\"stock_total_nodes\",params={\"v_type_set\" : vertex_type})\n",
    "    return result_query[0][\"@@total_stock\"]\n",
    "\n",
    "def get_capacity_per_edge(total_capacity_warehouses, num_edges):\n",
    "    \"\"\"\n",
    "    Calculate the capacity per edge.\n",
    "\n",
    "    Parameters:\n",
    "        total_capacity_warehouses: The total capacity of the warehouses.\n",
    "        num_edges: The number of edges.\n",
    "\n",
    "    Returns:\n",
    "        float: The capacity per edge, rounded to the nearest integer.\n",
    "    \"\"\"\n",
    "    if num_edges == 0:\n",
    "        return 0\n",
    "    return round(total_capacity_warehouses / num_edges, 0)\n",
    "\n",
    "def get_KPI(conn, edge_type, vertex_type):\n",
    "    \"\"\"\n",
    "    Get various Key Performance Indicators (KPIs) related to edges and nodes.\n",
    "\n",
    "    Parameters:\n",
    "        conn: The connection object to the database.\n",
    "        edge_name: The name of the edge.\n",
    "        node_name: The name of the node.\n",
    "\n",
    "    Returns:\n",
    "        dict: A dictionary containing various KPI results.\n",
    "    \"\"\"\n",
    "    result_query = conn.runInstalledQuery(\"get_all_KPIs\",params={\"v_type_set\" : vertex_type,\"e_type_set\":edge_type})\n",
    "    return result_query\n",
    "\n",
    "def get_kpi(edge_name: str, node_name: str):\n",
    "    \"\"\"\n",
    "    Endpoint to retrieve KPI metrics for the specified edge and node.\n",
    "    \"\"\"\n",
    "    try:\n",
    "        kpi_results = get_KPI(conn, edge_name, node_name)\n",
    "        return JSONResponse(content=kpi_results)\n",
    "    except Exception as e:\n",
    "        raise HTTPException(status_code=500, detail=str(e))\n"
   ]
  },
  {
   "cell_type": "code",
   "execution_count": 4,
   "metadata": {},
   "outputs": [
    {
     "data": {
      "text/plain": [
       "[{'num_edges': 26},\n",
       " {'num_nodes': 29},\n",
       " {'avg_capacity': 61.55172},\n",
       " {'total_capacity_edges': 1785},\n",
       " {'total_capacity_warehouses': 1896.4},\n",
       " {'total_stock': 1494.1}]"
      ]
     },
     "execution_count": 4,
     "metadata": {},
     "output_type": "execute_result"
    }
   ],
   "source": [
    "get_KPI(conn,edge_type=\"distribute_to\",vertex_type=\"Nodes\")"
   ]
  },
  {
   "cell_type": "code",
   "execution_count": null,
   "metadata": {},
   "outputs": [],
   "source": []
  }
 ],
 "metadata": {
  "kernelspec": {
   "display_name": ".venv",
   "language": "python",
   "name": "python3"
  },
  "language_info": {
   "codemirror_mode": {
    "name": "ipython",
    "version": 3
   },
   "file_extension": ".py",
   "mimetype": "text/x-python",
   "name": "python",
   "nbconvert_exporter": "python",
   "pygments_lexer": "ipython3",
   "version": "3.12.2"
  }
 },
 "nbformat": 4,
 "nbformat_minor": 2
}
