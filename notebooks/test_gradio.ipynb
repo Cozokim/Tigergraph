{
 "cells": [
  {
   "cell_type": "code",
   "execution_count": 1,
   "metadata": {},
   "outputs": [
    {
     "name": "stdout",
     "output_type": "stream",
     "text": [
      "secret token: mkdukvhnjgbnt05lvatje3pr45rod6i0\n"
     ]
    },
    {
     "name": "stderr",
     "output_type": "stream",
     "text": [
      "c:\\Users\\JulienRigot\\Projets\\zzEnvs\\Transport\\Lib\\site-packages\\pyTigerGraph\\pyTigerGraphBase.py:105: DeprecationWarning: The `apiToken` parameter is deprecated; use `getToken()` function instead.\n",
      "  warnings.warn(\n"
     ]
    }
   ],
   "source": [
    "import pyTigerGraph as tg\n",
    "import pandas as pd\n",
    "import json \n",
    "\n",
    "hostName = \"https://938ec456bbb745d48b082befd6709d8b.i.tgcloud.io\"\n",
    "graphName = \"VWG\"\n",
    "secret = \"k7et08kntt9lt2i2ov7m1gmkkm7ul33i\"\n",
    "userName = \"user_1\"\n",
    "password = \"A1z2e3r4*\"\n",
    "\n",
    "graph = tg.TigerGraphConnection(host=hostName, graphname=graphName)\n",
    "\n",
    "authToken = graph.getToken(secret)\n",
    "authToken = authToken[0]\n",
    "print(f\"secret token: {authToken}\")\n",
    "conn = tg.TigerGraphConnection(host=hostName, graphname=graphName, username=userName, password=password, apiToken=authToken)"
   ]
  },
  {
   "cell_type": "markdown",
   "metadata": {},
   "source": [
    "# Tab 0 (cargar datos)"
   ]
  },
  {
   "cell_type": "code",
   "execution_count": 2,
   "metadata": {},
   "outputs": [],
   "source": [
    "import gradio as gr\n",
    "def read_csv_path(input_file):\n",
    "    df = pd.read_csv(input_file.name)\n",
    "    target_column = sorted(list(df.columns))\n",
    "    return  gr.Dropdown(choices = target_column) , gr.Dropdown(choices = target_column) , gr.Dropdown(choices = target_column)\n",
    "\n",
    "log_list = []\n",
    "\n",
    "def transfert_nodes_and_edges(node_initial, node_final, charge, nodetype=\"Nodes\", edgetype=\"distribute_to\"):\n",
    "    global operation_count, palets_number, unique_origin_nodes,unique_destination_nodes,log_list\n",
    "\n",
    "    try:\n",
    "        # load data nodes\n",
    "        node_i_stock = conn.getVerticesById(nodetype, node_initial)[0][\"attributes\"][\"Stock\"]\n",
    "        node_f_stock = conn.getVerticesById(nodetype, node_final)[0][\"attributes\"][\"Stock\"]\n",
    "        node_i_unload_capacity = conn.getVerticesById(nodetype, node_initial)[0][\"attributes\"][\"UnloadCapacity\"]\n",
    "        node_f_load_capacity = conn.getVerticesById(nodetype, node_final)[0][\"attributes\"][\"LoadCapacity\"]\n",
    "        # Nodes constraint\n",
    "        if charge > node_i_stock:\n",
    "            error_message = f\"{node_initial} to {node_final}: Not enough stock ({charge} > {node_i_stock})\"\n",
    "            log_list.append(error_message)\n",
    "            return error_message\n",
    "\n",
    "        if charge > node_f_load_capacity:\n",
    "            error_message = f\"{node_initial} to {node_final}: Not enough load capacity from receiving warehouse (charge: {charge} > LoadCapacity: {node_f_load_capacity})\"\n",
    "            log_list.append(error_message)\n",
    "            return error_message\n",
    "\n",
    "        if charge > node_i_unload_capacity:\n",
    "            error_message = f\"{node_initial} to {node_final}: Not enough unload capacity from starting warehouse (charge: {charge} > UnloadCapacity: {node_i_unload_capacity})\"\n",
    "            log_list.append(error_message)\n",
    "            return error_message\n",
    "\n",
    "        # load data edges\n",
    "        capacity_edge = conn.getEdges(sourceVertexType=nodetype,\n",
    "                                      targetVertexType=nodetype,\n",
    "                                      edgeType=edgetype,\n",
    "                                      sourceVertexId=node_initial,\n",
    "                                      targetVertexId=node_final\n",
    "                                      )[0][\"attributes\"][\"Capacity\"]\n",
    "        \n",
    "        daily_movement = conn.getEdges(sourceVertexType=nodetype,\n",
    "                                       targetVertexType=nodetype,\n",
    "                                       edgeType=edgetype,\n",
    "                                       sourceVertexId=node_initial,\n",
    "                                       targetVertexId=node_final\n",
    "                                       )[0][\"attributes\"][\"Daily_movement\"]\n",
    "        # Edge constraint\n",
    "        if daily_movement + charge > capacity_edge:\n",
    "            error_message = f\"Send {capacity_edge} from {node_initial} to {node_final}: Not enough edge capacity ({daily_movement + charge} > {capacity_edge})\"\n",
    "            log_list.append(error_message)\n",
    "            return error_message\n",
    "        \n",
    "        # Make changes to the network if all constraints are respected\n",
    "        conn.upsertVertex(\"Nodes\", node_initial, attributes={\"Stock\": node_i_stock - charge})\n",
    "        conn.upsertVertex(\"Nodes\", node_final, attributes={\"Stock\": node_f_stock + charge})\n",
    "        conn.upsertEdge(sourceVertexType=nodetype,\n",
    "                        targetVertexType=nodetype,\n",
    "                        edgeType=edgetype,\n",
    "                        sourceVertexId=node_initial,\n",
    "                        targetVertexId=node_final,\n",
    "                        attributes={\"Daily_movement\": daily_movement + charge})\n",
    "        \n",
    "        unique_origin_nodes.add(node_initial)   # Add the node to the set of unique nodes\n",
    "        unique_destination_nodes.add(node_final) \n",
    "\n",
    "        operation_count += 1        #increment operation_count\n",
    "        palets_number += charge     #increment palets_number with charge\n",
    "\n",
    "    except Exception as e:\n",
    "        error_message = f\"Error in the transfer: {e}\"\n",
    "        log_list.append(error_message)\n",
    "        return error_message\n",
    "    \n",
    "\n",
    "def make_daily_movements(input_file, column_origin, column_destination, column_transfert):\n",
    "    global operation_count, unique_origin_nodes,unique_destination_nodes,palets_number, log_list\n",
    "    operation_count = 0\n",
    "    palets_number = 0\n",
    "    unique_origin_nodes = set()\n",
    "    unique_destination_nodes = set()\n",
    "    log_list = []\n",
    "    df = pd.read_csv(input_file)\n",
    "\n",
    "    for index, row in df.iterrows():\n",
    "        origin = str(row[column_origin])\n",
    "        destination = str(row[column_destination])\n",
    "        volume = float(row[column_transfert])\n",
    "\n",
    "        try:\n",
    "            transfert_nodes_and_edges(origin, destination, volume)\n",
    "\n",
    "        except Exception as e:\n",
    "            log_list.append(f\"Error in make_daily_movements: {e}\")\n",
    "            continue \n",
    "\n",
    "    return '\\n'.join(log_list)"
   ]
  },
  {
   "cell_type": "markdown",
   "metadata": {},
   "source": [
    "# Function tab 1 BIS (KPI daily movement)"
   ]
  },
  {
   "cell_type": "code",
   "execution_count": 3,
   "metadata": {},
   "outputs": [],
   "source": [
    "def operation_number():\n",
    "    return operation_count\n",
    "\n",
    "def number_palets():\n",
    "    return palets_number\n",
    "\n",
    "def origin_number():\n",
    "    global unique_origin_nodes\n",
    "    return len(unique_origin_nodes)\n",
    "\n",
    "def distinct_destinations():\n",
    "    global unique_destination_nodes\n",
    "    return len(unique_destination_nodes)\n",
    "\n",
    "def total_cost_per_palet():\n",
    "    return 5*palets_number\n",
    "\n",
    "def get_KPIs_movements():\n",
    "    return operation_number(), number_palets(), origin_number(), distinct_destinations(), total_cost_per_palet()"
   ]
  },
  {
   "cell_type": "markdown",
   "metadata": {},
   "source": [
    "# Functions tab 1 (pintar la red + KPI )"
   ]
  },
  {
   "cell_type": "code",
   "execution_count": 4,
   "metadata": {},
   "outputs": [],
   "source": [
    "def get_edges(name_edge = \"distribute_to\"):\n",
    "    numEdges = conn.getEdgeCount(name_edge)\n",
    "    return numEdges\n",
    "\n",
    "def get_nodes(name_node = \"Nodes\"):\n",
    "    numNodes = conn.getVertexCount(name_node)\n",
    "    return numNodes\n",
    "\n",
    "def get_average_cost_per_edge(name_edge = \"distribute_to\"):\n",
    "    edge = conn.getEdgeStats(name_edge)\n",
    "    avg_capacity = edge[name_edge]['Capacity']['AVG']\n",
    "    return avg_capacity\n",
    "\n",
    "def get_total_capacity_edges(name_edge = \"distribute_to\"):\n",
    "    edge = conn.getEdgesByType(name_edge)\n",
    "    total_capacity_edges = 0\n",
    "    for warehouse in edge :\n",
    "        capacity = warehouse[\"attributes\"][\"Capacity\"]     \n",
    "        total_capacity_edges += capacity\n",
    "    return total_capacity_edges\n",
    "\n",
    "def get_total_capacity_warehouse(name_node = \"Nodes\"):\n",
    "    almacen = conn.getVertices(name_node)\n",
    "    total_capacity_warehouse = 0\n",
    "    for warehouse in almacen :\n",
    "        capacity = warehouse[\"attributes\"][\"Capacity\"]      #REPLACE CAPACITY / CARGA REAL \n",
    "        total_capacity_warehouse += capacity\n",
    "    return total_capacity_warehouse\n",
    "\n",
    "\n",
    "def get_total_stock(node = \"Nodes\"):\n",
    "    almacen = conn.getVertices(node)\n",
    "    total_stock = 0\n",
    "    for warehouse in almacen :\n",
    "        stock = warehouse[\"attributes\"][\"Stock\"]     \n",
    "        total_stock += stock\n",
    "    return total_stock\n",
    "\n",
    "\n",
    "def get_average_capacity_nodes(edge = \"distribute_to\"):\n",
    "    return get_total_capacity_warehouse()/conn.getEdgeCount(edge)\n",
    "\n",
    "def get_KPIs_network():\n",
    "    edges = get_edges()\n",
    "    nodes = get_nodes()\n",
    "    average_cost_edge = get_average_cost_per_edge()\n",
    "    total_capacity_edge = get_total_capacity_edges()\n",
    "    warehouse_total_capacity = get_total_capacity_warehouse()\n",
    "    warehouse_total_stock = get_total_stock()\n",
    "    return edges, nodes, average_cost_edge,total_capacity_edge,warehouse_total_capacity, warehouse_total_stock"
   ]
  },
  {
   "cell_type": "markdown",
   "metadata": {},
   "source": [
    "# Functions tab 2 (modif red)"
   ]
  },
  {
   "cell_type": "code",
   "execution_count": 5,
   "metadata": {},
   "outputs": [
    {
     "data": {
      "text/plain": [
       "1"
      ]
     },
     "execution_count": 5,
     "metadata": {},
     "output_type": "execute_result"
    }
   ],
   "source": [
    "conn.upsertEdge(sourceVertexType=\"Nodes\",targetVertexType=\"Nodes\",edgeType=\"distribute_to\",sourceVertexId=\"Almacen 260\",targetVertexId=\"Almacen 730\",attributes={\"Capacity\" : 1000})"
   ]
  },
  {
   "cell_type": "code",
   "execution_count": 6,
   "metadata": {},
   "outputs": [],
   "source": [
    "import json\n",
    "\n",
    "def add_edge(source_vertex_id, target_vertex_id, attributes_dict=None, vertex_type=\"Nodes\", edgeType=\"distribute_to\"):\n",
    "    if attributes_dict is None:\n",
    "        conn.upsertEdge(sourceVertexType=vertex_type,\n",
    "                        targetVertexType=vertex_type,\n",
    "                        edgeType=edgeType,\n",
    "                        sourceVertexId=source_vertex_id,\n",
    "                        targetVertexId=target_vertex_id)\n",
    "    else:\n",
    "        attributes = json.loads(attributes_dict)\n",
    "        conn.upsertEdge(sourceVertexType=vertex_type,\n",
    "                        targetVertexType=vertex_type,\n",
    "                        edgeType=edgeType,\n",
    "                        sourceVertexId=source_vertex_id,\n",
    "                        targetVertexId=target_vertex_id,\n",
    "                        attributes=attributes)\n",
    "    \n",
    "\n",
    "def erase_edge(source_vertex_id, target_vertex_id, vertex_type = \"Nodes\", edgeType = \"distribute_to\"):\n",
    "    conn.delEdges(sourceVertexType=vertex_type,\n",
    "                    targetVertexType=vertex_type,\n",
    "                    edgeType=edgeType,\n",
    "                    sourceVertexId=source_vertex_id,\n",
    "                    targetVertexId=target_vertex_id)\n",
    "    \n",
    "def add_node(id, attributes_dict=None, vertex_type=\"Nodes\"):\n",
    "    if attributes_dict is None:\n",
    "        conn.upsertVertex(vertex_type, id)\n",
    "    else:\n",
    "        attributes = json.loads(attributes_dict)\n",
    "        conn.upsertVertex(vertex_type, id, attributes=attributes)\n",
    "\n",
    "def erase_node(id ,vertex_type = \"Nodes\"):\n",
    "    conn.delVerticesById(vertexIds=id,vertexType=vertex_type)"
   ]
  },
  {
   "cell_type": "markdown",
   "metadata": {},
   "source": [
    "# Function Tab 3 (algorithms)"
   ]
  },
  {
   "cell_type": "code",
   "execution_count": 7,
   "metadata": {},
   "outputs": [],
   "source": [
    "def launch_instaled_algo(algorithm,params_str):\n",
    "    params = json.loads(params_str)\n",
    "    results = conn.runInstalledQuery(algorithm, params= params)\n",
    "    return results"
   ]
  },
  {
   "cell_type": "code",
   "execution_count": 8,
   "metadata": {},
   "outputs": [],
   "source": [
    "VertexTypes = conn.getVertexTypes()\n",
    "EdgeTypes = conn.getEdgeTypes()\n",
    "EdgeAtributes = conn.getEdgeAttrs(\"distribute_to\")[0][0]\n",
    "data_algo = conn.getInstalledQueries(fmt=\"py\")\n",
    "installed_algorithms = [key.split(\"/\")[-1] for key in data_algo.keys() if key.startswith(\"GET /query/VWG/\")]"
   ]
  },
  {
   "cell_type": "markdown",
   "metadata": {},
   "source": [
    "# Tab 4 "
   ]
  },
  {
   "cell_type": "code",
   "execution_count": 9,
   "metadata": {},
   "outputs": [],
   "source": [
    "import matplotlib.pyplot as plt\n",
    "import networkx as nx\n",
    "from io import BytesIO\n",
    "from PIL import Image\n",
    "\n",
    "def networkx_maxflow(data):\n",
    "    data = eval(data)\n",
    "    max_flow = data[0]['@@sum_max_flow']\n",
    "    edge_set = data[1]['@@edges_set']\n",
    "\n",
    "    G = nx.DiGraph()\n",
    "\n",
    "    # Add edges with capacities\n",
    "    for edge in edge_set:\n",
    "        from_node = edge['from_id']\n",
    "        to_node = edge['to_id']\n",
    "        capacity = edge['attributes']['Capacity']\n",
    "        G.add_edge(from_node, to_node, capacity=capacity)\n",
    "\n",
    "    pos = nx.spring_layout(G)\n",
    "    nx.draw(G, pos, with_labels=True, node_size=700, node_color='lightblue', font_size=10, font_weight='bold')  # Draw nodes\n",
    "    nx.draw_networkx_edge_labels(G, pos, edge_labels={(u, v): f\"{d['capacity']}\" for u, v, d in G.edges(data=True)}, font_color='red')  # Edge labels\n",
    "    plt.title(f\"Max Flow: {max_flow}\")\n",
    "    plt.show()\n",
    "\n",
    "    buf = BytesIO()\n",
    "    plt.savefig(buf, format='png')\n",
    "    buf.seek(0)\n",
    "    img = Image.open(buf)\n",
    "    return img"
   ]
  },
  {
   "cell_type": "code",
   "execution_count": 10,
   "metadata": {},
   "outputs": [],
   "source": [
    "import matplotlib.pyplot as plt\n",
    "import networkx as nx\n",
    "def networkx_astar(data):\n",
    "    data = eval(data)\n",
    "    node_data = {item['v_id']: item['attributes'] for item in data[2]['tmp']}\n",
    "    edge_data = [{'from': edge['from_id'], 'to': edge['to_id'], 'capacity': edge['attributes']['Capacity']} for edge in data[2]['@@display_edge_set']]\n",
    "\n",
    "    G = nx.Graph()\n",
    "\n",
    "    # Add nodes\n",
    "    for node_id, attributes in node_data.items():\n",
    "        G.add_node(node_id, **attributes)\n",
    "\n",
    "    # Add edges\n",
    "    for edge in edge_data:\n",
    "        G.add_edge(edge['from'], edge['to'], capacity=edge['capacity'])\n",
    "\n",
    "    pos = nx.spring_layout(G)  # Nodes\n",
    "    nx.draw(G, pos, with_labels=True, node_size=700, node_color='lightblue', font_size=10, font_weight='bold')  # Draw Edges\n",
    "    nx.draw_networkx_edge_labels(G, pos, edge_labels={(edge['from'], edge['to']): f\"{edge['capacity']}\" for edge in edge_data}, font_color='red')  # Edge label\n",
    "    plt.title(\"Graphe avec NetworkX\")\n",
    "    plt.show()\n",
    "    from io import BytesIO\n",
    "    from PIL import Image\n",
    "    buf = BytesIO()\n",
    "    plt.savefig(buf, format='png')\n",
    "    buf.seek(0)\n",
    "    img = Image.open(buf)\n",
    "    return img"
   ]
  },
  {
   "cell_type": "code",
   "execution_count": 11,
   "metadata": {},
   "outputs": [
    {
     "name": "stderr",
     "output_type": "stream",
     "text": [
      "c:\\Users\\JulienRigot\\Projets\\zzEnvs\\Transport\\Lib\\site-packages\\gradio\\routes.py:1091: DeprecationWarning: \n",
      "        on_event is deprecated, use lifespan event handlers instead.\n",
      "\n",
      "        Read more about it in the\n",
      "        [FastAPI docs for Lifespan Events](https://fastapi.tiangolo.com/advanced/events/).\n",
      "        \n",
      "  @app.on_event(\"startup\")\n",
      "c:\\Users\\JulienRigot\\Projets\\zzEnvs\\Transport\\Lib\\site-packages\\fastapi\\applications.py:4495: DeprecationWarning: \n",
      "        on_event is deprecated, use lifespan event handlers instead.\n",
      "\n",
      "        Read more about it in the\n",
      "        [FastAPI docs for Lifespan Events](https://fastapi.tiangolo.com/advanced/events/).\n",
      "        \n",
      "  return self.router.on_event(event_type)\n"
     ]
    },
    {
     "name": "stdout",
     "output_type": "stream",
     "text": [
      "Running on local URL:  http://127.0.0.1:7860\n",
      "\n",
      "To create a public link, set `share=True` in `launch()`.\n"
     ]
    },
    {
     "data": {
      "text/html": [
       "<div><iframe src=\"http://127.0.0.1:7860/\" width=\"100%\" height=\"500\" allow=\"autoplay; camera; microphone; clipboard-read; clipboard-write;\" frameborder=\"0\" allowfullscreen></iframe></div>"
      ],
      "text/plain": [
       "<IPython.core.display.HTML object>"
      ]
     },
     "metadata": {},
     "output_type": "display_data"
    },
    {
     "name": "stderr",
     "output_type": "stream",
     "text": [
      "c:\\Users\\JulienRigot\\Projets\\zzEnvs\\Transport\\Lib\\site-packages\\gradio\\routes.py:1091: DeprecationWarning: \n",
      "        on_event is deprecated, use lifespan event handlers instead.\n",
      "\n",
      "        Read more about it in the\n",
      "        [FastAPI docs for Lifespan Events](https://fastapi.tiangolo.com/advanced/events/).\n",
      "        \n",
      "  @app.on_event(\"startup\")\n",
      "c:\\Users\\JulienRigot\\Projets\\zzEnvs\\Transport\\Lib\\site-packages\\fastapi\\applications.py:4495: DeprecationWarning: \n",
      "        on_event is deprecated, use lifespan event handlers instead.\n",
      "\n",
      "        Read more about it in the\n",
      "        [FastAPI docs for Lifespan Events](https://fastapi.tiangolo.com/advanced/events/).\n",
      "        \n",
      "  return self.router.on_event(event_type)\n",
      "c:\\Users\\JulienRigot\\Projets\\zzEnvs\\Transport\\Lib\\site-packages\\starlette\\templating.py:178: DeprecationWarning: The `name` is not the first parameter anymore. The first parameter should be the `Request` instance.\n",
      "Replace `TemplateResponse(name, {\"request\": request})` by `TemplateResponse(request, name)`.\n",
      "  warnings.warn(\n"
     ]
    }
   ],
   "source": [
    "import gradio as gr\n",
    "\n",
    "class GradioMetro:\n",
    "    \n",
    "    def front_func(self):\n",
    "        with gr.Blocks(css=\"Gradio/styles.css\", title =\"Graphs\") as demo:\n",
    "            gr.Markdown(\"## \"\"![](file/Gradio/logo_lis.svg) Graphs\"\"\", elem_classes=\"cabecero\")\n",
    "            with gr.Tabs() as tabs:\n",
    "                with gr.TabItem(\"Cargar movimientos\",id=0):\n",
    "                    with gr.Row():\n",
    "                        with gr.Column(scale=1):\n",
    "                            upload_file = gr.File(label=\"Cargar fichero\", type=\"filepath\")\n",
    "                        with gr.Column():\n",
    "                            dropdown_column_start = gr.Dropdown(label='Columna del envio', choices = [],  interactive=True, allow_custom_value= True, elem_classes=\"dropdown\")\n",
    "                            dropdown_column_arrival = gr.Dropdown(label='Columna de la llegada', choices = [],  interactive=True, allow_custom_value= True, elem_classes=\"dropdown\")\n",
    "                            dropdown_column_quantity = gr.Dropdown(label='Columna de la cantidad', choices = [],  interactive=True, allow_custom_value= True, elem_classes=\"dropdown\")\n",
    "                            load_data_send = gr.Button(\"Lanzar los envios\")\n",
    "                            upload_file.upload(read_csv_path,inputs=[upload_file],outputs=[dropdown_column_start,dropdown_column_arrival,dropdown_column_quantity])\n",
    "                            logs = gr.TextArea(label=\"Logs\",lines=10)\n",
    "                            load_data_send.click(make_daily_movements,inputs=[upload_file,dropdown_column_start,dropdown_column_arrival,dropdown_column_quantity], outputs=[logs])\n",
    "                \n",
    "                \n",
    "                with gr.TabItem(\"KPIs movimiento\",id=1):\n",
    "                    with gr.Row():\n",
    "                        with gr.Column(scale=10):\n",
    "                            gr.HTML(value = \"\"\" <html lang=\"en\"><head><meta charset=\"UTF-8\"><meta name=\"viewport\" content=\"width=device-width, \n",
    "                                    initial-scale=1.0\"></head><body><iframe width=\"800\" height=\"800\"\n",
    "                                    src=\"https://tools.tgcloud.io/insights/app/4ynZXAYKkjb5Qm9La3a8oM/page/hn4NvZMasCBGm6Zm424Kcz/widgetShare/bXnRDaJoswH28gK3Kv75w6?domain=938ec456bbb745d48b082befd6709d8b.i&orgName=lis_test&clusterid=61b9bf78-17b3-41be-8216-acd3ca74f46e&TigerGraphToken=f4f4bd80-b0b8-4957-b014-bfec29aa9b1d\" \n",
    "                                    title=\"tigergarph insights\" frameborder=\"0\"></iframe></body></html>\"\"\")   \n",
    "                        with gr.Column():\n",
    "                            operation_number = gr.Number(label= \"KPI : Numero de operaciones\")\n",
    "                            palets_number = gr.Number(label= \"KPI : Numero de palets\")\n",
    "                            origin_number = gr.Number(label= \"KPI : Numero de origen\")\n",
    "                            distinct_destinations = gr.Number(label= \"KPI : destinaciones diferentes\")\n",
    "                            total_cost_per_palet = gr.Number(label= \"KPI : Coste total per palet\")\n",
    "                            button = gr.Button(\"Calcular KPIs\")\n",
    "                            button.click(get_KPIs_movements , outputs= [operation_number,palets_number,origin_number,distinct_destinations,total_cost_per_palet]) \n",
    "\n",
    "                with gr.TabItem(\"KPIs red\",id=2):\n",
    "                    with gr.Row():\n",
    "                        with gr.Column(scale=10):\n",
    "                            gr.HTML(value = \"\"\" <html lang=\"en\"><head><meta charset=\"UTF-8\"><meta name=\"viewport\" content=\"width=device-width, \n",
    "                                    initial-scale=1.0\"></head><body><iframe width=\"800\" height=\"800\"\n",
    "                                    src=\"https://tools.tgcloud.io/insights/app/4ynZXAYKkjb5Qm9La3a8oM/page/hn4NvZMasCBGm6Zm424Kcz/widgetShare/bXnRDaJoswH28gK3Kv75w6?domain=938ec456bbb745d48b082befd6709d8b.i&orgName=lis_test&clusterid=61b9bf78-17b3-41be-8216-acd3ca74f46e&TigerGraphToken=f4f4bd80-b0b8-4957-b014-bfec29aa9b1d\" \n",
    "                                    title=\"tigergarph insights\" frameborder=\"0\"></iframe></body></html>\"\"\")   \n",
    "                        with gr.Column():\n",
    "                            Numedges = gr.Number(label=\"KPI : Cantidad de Aristas\")\n",
    "                            Numnodes = gr.Number(label=\"KPI : Cantidad de Nodos\")\n",
    "                            average_cost_per_edge = gr.Number(label= \"KPI : Coste medio / Arista\")\n",
    "                            capacidad_total_aristas = gr.Number(label=\"KPI : Capacidad total de las aristas \")\n",
    "                            warehouse_total_capacity = gr.Number(label= \"KPI : Capacidad total de los Almacenes\")\n",
    "                            warehouse_total_stock = gr.Number(label=\"KPI : Stock total de los almacenes\")\n",
    "                            button = gr.Button(\"Calcular KPIs\")\n",
    "                            button.click(get_KPIs_network , outputs= [Numedges,Numnodes,average_cost_per_edge,capacidad_total_aristas,warehouse_total_capacity,warehouse_total_stock]) \n",
    "\n",
    "                with gr.TabItem(\"Modificación red\",id=3):\n",
    "                    with gr.Row():\n",
    "                        with gr.Column(scale=10):\n",
    "                            gr.HTML(value = \"\"\" <html lang=\"en\"><head><meta charset=\"UTF-8\"><meta name=\"viewport\" content=\"width=device-width, \n",
    "                                    initial-scale=1.0\"></head><body><iframe width=\"800\" height=\"800\"\n",
    "                                    src=\"https://tools.tgcloud.io/insights/app/4ynZXAYKkjb5Qm9La3a8oM/page/hn4NvZMasCBGm6Zm424Kcz/widgetShare/bXnRDaJoswH28gK3Kv75w6?domain=938ec456bbb745d48b082befd6709d8b.i&orgName=lis_test&clusterid=61b9bf78-17b3-41be-8216-acd3ca74f46e&TigerGraphToken=f4f4bd80-b0b8-4957-b014-bfec29aa9b1d\" \n",
    "                                    title=\"tigergarph insights\" frameborder=\"0\"></iframe></body></html>\"\"\")   \n",
    "                        with gr.Column():\n",
    "                            nodes_list_type = gr.Dropdown(VertexTypes,label=\"Tipo de nodos\")\n",
    "                            edges_list_type = gr.Dropdown(EdgeTypes,label='Tipo de aristas')\n",
    "                            atributes_dict = gr.TextArea(label = \"atributos\",lines=3)\n",
    "                            source_node_id = gr.TextArea(label='Punto de origen',lines=1)\n",
    "                            target_node_id = gr.TextArea(label='Punto de destinacion',lines=1)\n",
    "                            button_add_edge = gr.Button(\"Añadir/modificar arista\")\n",
    "                            button_erase_edge = gr.Button(\"Borrar arista\")\n",
    "                            button_add_node = gr.Button(\"Añadir/modificar nodo\")\n",
    "                            button_erase_node = gr.Button(\"Borrar nodo\")\n",
    "                            button_add_edge.click(add_edge ,inputs = [source_node_id,target_node_id,atributes_dict,nodes_list_type,edges_list_type]) \n",
    "                            button_erase_edge.click(erase_edge, inputs = [source_node_id,target_node_id,nodes_list_type,edges_list_type])\n",
    "                            button_add_node.click(add_node,inputs=[source_node_id,atributes_dict,nodes_list_type])\n",
    "                            button_erase_node.click(erase_node, inputs = [source_node_id,nodes_list_type])\n",
    "\n",
    "                with gr.TabItem(\"Algoritmos\",id=4):\n",
    "                    with gr.Row():\n",
    "                        with gr.Column(scale=10):\n",
    "                            gr.HTML(value = \"\"\" <html lang=\"en\"><head><meta charset=\"UTF-8\"><meta name=\"viewport\" content=\"width=device-width, \n",
    "                                    initial-scale=1.0\"></head><body><iframe width=\"800\" height=\"800\"\n",
    "                                    src=\"https://tools.tgcloud.io/insights/app/4ynZXAYKkjb5Qm9La3a8oM/page/hn4NvZMasCBGm6Zm424Kcz/widgetShare/bXnRDaJoswH28gK3Kv75w6?domain=938ec456bbb745d48b082befd6709d8b.i&orgName=lis_test&clusterid=61b9bf78-17b3-41be-8216-acd3ca74f46e&TigerGraphToken=f4f4bd80-b0b8-4957-b014-bfec29aa9b1d\" \n",
    "                                    title=\"tigergarph insights\" frameborder=\"0\"></iframe></body></html>\"\"\")   \n",
    "                        with gr.Column():\n",
    "                            list_algoritmos = gr.Dropdown(installed_algorithms,label=\"Algoritmos disponibles\")\n",
    "                            params_algoritmos = gr.TextArea(label = \"parametros algoritmos\",lines=3)\n",
    "                            result_algoritmo = gr.TextArea()\n",
    "                            button_algo = gr.Button(\"Lanzar algoritmo\")\n",
    "                            button_algo.click(launch_instaled_algo,inputs=[list_algoritmos,params_algoritmos],outputs= result_algoritmo)\n",
    "                \n",
    "                with gr.TabItem(\"Grafo NetworkX\",id=5):\n",
    "                        with gr.Column():\n",
    "                            Image_networkx = gr.Image()\n",
    "                            button_algo_networkx_astar = gr.Button(\"Pintar camino A Star\")\n",
    "                            button_algo_networkx_maxflow = gr.Button(\"Pintar camino Maxflow\")\n",
    "                            button_algo_networkx_astar.click(networkx_astar,inputs=[result_algoritmo],outputs= Image_networkx)\n",
    "                            button_algo_networkx_maxflow.click(networkx_maxflow,inputs=[result_algoritmo],outputs= Image_networkx)\n",
    "\n",
    "\n",
    "                demo.launch()\n",
    "                \n",
    "if __name__ == \"__main__\":\n",
    "\n",
    "    lis = GradioMetro()\n",
    "    \n",
    "    lis.front_func()"
   ]
  },
  {
   "cell_type": "code",
   "execution_count": 12,
   "metadata": {},
   "outputs": [
    {
     "ename": "NameError",
     "evalue": "name 'STOP' is not defined",
     "output_type": "error",
     "traceback": [
      "\u001b[1;31m---------------------------------------------------------------------------\u001b[0m",
      "\u001b[1;31mNameError\u001b[0m                                 Traceback (most recent call last)",
      "Cell \u001b[1;32mIn[12], line 1\u001b[0m\n\u001b[1;32m----> 1\u001b[0m \u001b[43mSTOP\u001b[49m\n",
      "\u001b[1;31mNameError\u001b[0m: name 'STOP' is not defined"
     ]
    },
    {
     "name": "stderr",
     "output_type": "stream",
     "text": [
      "c:\\Users\\JulienRigot\\Projets\\zzEnvs\\Transport\\Lib\\site-packages\\starlette\\templating.py:178: DeprecationWarning: The `name` is not the first parameter anymore. The first parameter should be the `Request` instance.\n",
      "Replace `TemplateResponse(name, {\"request\": request})` by `TemplateResponse(request, name)`.\n",
      "  warnings.warn(\n"
     ]
    }
   ],
   "source": [
    "STOP"
   ]
  },
  {
   "cell_type": "code",
   "execution_count": null,
   "metadata": {},
   "outputs": [
    {
     "name": "stderr",
     "output_type": "stream",
     "text": [
      "c:\\Users\\JulienRigot\\Projets\\zzEnvs\\Transport\\Lib\\site-packages\\starlette\\templating.py:178: DeprecationWarning: The `name` is not the first parameter anymore. The first parameter should be the `Request` instance.\n",
      "Replace `TemplateResponse(name, {\"request\": request})` by `TemplateResponse(request, name)`.\n",
      "  warnings.warn(\n"
     ]
    }
   ],
   "source": [
    "# For demo : \n",
    "# {\"Capacity\": 50}\n",
    "# {\"Capacity\": 50,\"latitude\": 1,\"longitude\":1}"
   ]
  },
  {
   "cell_type": "code",
   "execution_count": null,
   "metadata": {},
   "outputs": [
    {
     "data": {
      "text/plain": [
       "{'source': 'Almacen 642',\n",
       " 'source.type': 'Nodes',\n",
       " 'v_type_set': 'Nodes',\n",
       " 'e_type_set': 'distribute_to',\n",
       " 'weight_attribute': 'Capacity',\n",
       " 'weight_type': 'FLOAT',\n",
       " 'epsilon': '0.1',\n",
       " 'print_results': 'True',\n",
       " 'display_edges': 'True'}"
      ]
     },
     "execution_count": 11,
     "metadata": {},
     "output_type": "execute_result"
    }
   ],
   "source": [
    "# Astar_test\n",
    "{\"source_vertex\": \"Almacen 252\", \"source_vertex.type\" : \"Nodes\",\n",
    "                                                         \"target_vertex\" : \"Almacen 691\", \"target_vertex.type\" : \"Nodes\",\n",
    "                                                     \"e_type_set\": \"distribute_to\",\"weight_type\" : \"FLOAT\",\n",
    "                                                     \"latitude\" : \"latitude\", \"longitude\" : \"longitude\",\n",
    "                                                     \"weight_attribute\": \"Capacity\",\n",
    "                                                     \"print_stats\":\"True\"}\n",
    "\n",
    "\n",
    "# Maxflow\n",
    "\n",
    "{\"source\": \"Almacen 642\", \"source.type\" : \"Nodes\",\n",
    "                                                        \"sink\" : \"Almacen 260\", \"sink.type\" : \"Nodes\",\n",
    "                                                        \"v_type\" : \"Nodes\",\n",
    "                                                        \"e_type_set\": \"distribute_to\",\"reverse_e_type_set\":\"distribute_to\",\n",
    "                                                        \"cap_attr\":\"Capacity\",\"cap_type\": \"FLOAT\",\n",
    "                                                        \"min_flow_threshhold\" : \"5\",\n",
    "                                                         \"display_edges\" : \"True\"}\n",
    "\n",
    "\n",
    "# Djikstra \n",
    "\n",
    "{\"source\": \"Almacen 642\", \"source.type\" : \"Nodes\",\n",
    "                                                        \"v_type_set\" : \"Nodes\",\n",
    "                                                        \"e_type_set\": \"distribute_to\",\n",
    "                                                        \"weight_attribute\" : \"Capacity\", \"weight_type\" : \"FLOAT\",\n",
    "                                                        \"epsilon\" : \"0.1\",\n",
    "                                                        \"print_results\":\"True\", \"display_edges\" : \"True\"}"
   ]
  },
  {
   "cell_type": "markdown",
   "metadata": {},
   "source": [
    "# Test "
   ]
  }
 ],
 "metadata": {
  "kernelspec": {
   "display_name": "Python 3",
   "language": "python",
   "name": "python3"
  },
  "language_info": {
   "codemirror_mode": {
    "name": "ipython",
    "version": 3
   },
   "file_extension": ".py",
   "mimetype": "text/x-python",
   "name": "python",
   "nbconvert_exporter": "python",
   "pygments_lexer": "ipython3",
   "version": "3.11.0"
  }
 },
 "nbformat": 4,
 "nbformat_minor": 2
}
