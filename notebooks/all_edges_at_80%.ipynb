{
 "cells": [
  {
   "cell_type": "code",
   "execution_count": 27,
   "metadata": {},
   "outputs": [],
   "source": [
    "import pandas as pd\n",
    "df = pd.read_csv(r'C:\\Users\\JulienRigot\\OneDrive - LIS Data Solutions\\Escritorio\\code_GORDIAS\\base de datos graph\\Tigergraph\\CSV_entrega\\conexiones_biggest_europe_cities_without_code_dailymovement80% copy.csv')\n"
   ]
  },
  {
   "cell_type": "code",
   "execution_count": 28,
   "metadata": {},
   "outputs": [
    {
     "data": {
      "text/html": [
       "<div>\n",
       "<style scoped>\n",
       "    .dataframe tbody tr th:only-of-type {\n",
       "        vertical-align: middle;\n",
       "    }\n",
       "\n",
       "    .dataframe tbody tr th {\n",
       "        vertical-align: top;\n",
       "    }\n",
       "\n",
       "    .dataframe thead th {\n",
       "        text-align: right;\n",
       "    }\n",
       "</style>\n",
       "<table border=\"1\" class=\"dataframe\">\n",
       "  <thead>\n",
       "    <tr style=\"text-align: right;\">\n",
       "      <th></th>\n",
       "      <th>CODE_Origin</th>\n",
       "      <th>CODE_Destination</th>\n",
       "      <th>Coste</th>\n",
       "      <th>Carga</th>\n",
       "      <th>Capacidad</th>\n",
       "      <th>daily_movement</th>\n",
       "    </tr>\n",
       "  </thead>\n",
       "  <tbody>\n",
       "    <tr>\n",
       "      <th>0</th>\n",
       "      <td>Madrid</td>\n",
       "      <td>Barcelona</td>\n",
       "      <td>10</td>\n",
       "      <td>Sobrecargado</td>\n",
       "      <td>120</td>\n",
       "      <td>130.0</td>\n",
       "    </tr>\n",
       "    <tr>\n",
       "      <th>1</th>\n",
       "      <td>Madrid</td>\n",
       "      <td>Valencia</td>\n",
       "      <td>9</td>\n",
       "      <td>Subcargado</td>\n",
       "      <td>110</td>\n",
       "      <td>10.0</td>\n",
       "    </tr>\n",
       "    <tr>\n",
       "      <th>2</th>\n",
       "      <td>Madrid</td>\n",
       "      <td>Seville</td>\n",
       "      <td>11</td>\n",
       "      <td>Optimal</td>\n",
       "      <td>100</td>\n",
       "      <td>80.0</td>\n",
       "    </tr>\n",
       "    <tr>\n",
       "      <th>3</th>\n",
       "      <td>Madrid</td>\n",
       "      <td>Bilbao</td>\n",
       "      <td>8</td>\n",
       "      <td>Optimal</td>\n",
       "      <td>90</td>\n",
       "      <td>72.0</td>\n",
       "    </tr>\n",
       "    <tr>\n",
       "      <th>4</th>\n",
       "      <td>Madrid</td>\n",
       "      <td>Zaragoza</td>\n",
       "      <td>7</td>\n",
       "      <td>Optimal</td>\n",
       "      <td>80</td>\n",
       "      <td>64.0</td>\n",
       "    </tr>\n",
       "    <tr>\n",
       "      <th>...</th>\n",
       "      <td>...</td>\n",
       "      <td>...</td>\n",
       "      <td>...</td>\n",
       "      <td>...</td>\n",
       "      <td>...</td>\n",
       "      <td>...</td>\n",
       "    </tr>\n",
       "    <tr>\n",
       "      <th>116</th>\n",
       "      <td>Olomouc</td>\n",
       "      <td>Krakow</td>\n",
       "      <td>10</td>\n",
       "      <td>Optimal</td>\n",
       "      <td>95</td>\n",
       "      <td>76.0</td>\n",
       "    </tr>\n",
       "    <tr>\n",
       "      <th>117</th>\n",
       "      <td>Warsaw</td>\n",
       "      <td>Berlin</td>\n",
       "      <td>9</td>\n",
       "      <td>Optimal</td>\n",
       "      <td>100</td>\n",
       "      <td>80.0</td>\n",
       "    </tr>\n",
       "    <tr>\n",
       "      <th>118</th>\n",
       "      <td>Warsaw</td>\n",
       "      <td>Vilnius</td>\n",
       "      <td>8</td>\n",
       "      <td>Optimal</td>\n",
       "      <td>75</td>\n",
       "      <td>60.0</td>\n",
       "    </tr>\n",
       "    <tr>\n",
       "      <th>119</th>\n",
       "      <td>Vilnius</td>\n",
       "      <td>Krakow</td>\n",
       "      <td>11</td>\n",
       "      <td>Optimal</td>\n",
       "      <td>70</td>\n",
       "      <td>56.0</td>\n",
       "    </tr>\n",
       "    <tr>\n",
       "      <th>120</th>\n",
       "      <td>Hamburg</td>\n",
       "      <td>Copenhague</td>\n",
       "      <td>11</td>\n",
       "      <td>Optimal</td>\n",
       "      <td>70</td>\n",
       "      <td>56.0</td>\n",
       "    </tr>\n",
       "  </tbody>\n",
       "</table>\n",
       "<p>121 rows × 6 columns</p>\n",
       "</div>"
      ],
      "text/plain": [
       "    CODE_Origin CODE_Destination  Coste         Carga  Capacidad  \\\n",
       "0        Madrid        Barcelona     10  Sobrecargado        120   \n",
       "1        Madrid         Valencia      9    Subcargado        110   \n",
       "2        Madrid          Seville     11       Optimal        100   \n",
       "3        Madrid           Bilbao      8       Optimal         90   \n",
       "4        Madrid         Zaragoza      7       Optimal         80   \n",
       "..          ...              ...    ...           ...        ...   \n",
       "116     Olomouc           Krakow     10       Optimal         95   \n",
       "117      Warsaw           Berlin      9       Optimal        100   \n",
       "118      Warsaw          Vilnius      8       Optimal         75   \n",
       "119     Vilnius           Krakow     11       Optimal         70   \n",
       "120     Hamburg       Copenhague     11       Optimal         70   \n",
       "\n",
       "     daily_movement  \n",
       "0             130.0  \n",
       "1              10.0  \n",
       "2              80.0  \n",
       "3              72.0  \n",
       "4              64.0  \n",
       "..              ...  \n",
       "116            76.0  \n",
       "117            80.0  \n",
       "118            60.0  \n",
       "119            56.0  \n",
       "120            56.0  \n",
       "\n",
       "[121 rows x 6 columns]"
      ]
     },
     "execution_count": 28,
     "metadata": {},
     "output_type": "execute_result"
    }
   ],
   "source": [
    "df"
   ]
  },
  {
   "cell_type": "code",
   "execution_count": 29,
   "metadata": {},
   "outputs": [],
   "source": [
    "df[\"daily_movement\"]=0"
   ]
  },
  {
   "cell_type": "code",
   "execution_count": 31,
   "metadata": {},
   "outputs": [],
   "source": [
    "df.to_csv(r\"C:\\Users\\JulienRigot\\OneDrive - LIS Data Solutions\\Escritorio\\code_GORDIAS\\base de datos graph\\Tigergraph\\CSV_entrega\\conexiones_biggest_europe_cities_without_code_dailymovement80% copy.csv\",index=False)"
   ]
  },
  {
   "cell_type": "code",
   "execution_count": 2,
   "metadata": {},
   "outputs": [
    {
     "name": "stderr",
     "output_type": "stream",
     "text": [
      "c:\\Users\\JulienRigot\\OneDrive - LIS Data Solutions\\Escritorio\\code_GORDIAS\\.venv\\Lib\\site-packages\\pyTigerGraph\\pyTigerGraphAuth.py:264: DeprecationWarning: datetime.datetime.utcfromtimestamp() is deprecated and scheduled for removal in a future version. Use timezone-aware objects to represent datetimes in UTC: datetime.datetime.fromtimestamp(timestamp, datetime.UTC).\n",
      "  datetime.utcfromtimestamp(float(res.get(\"expiration\"))).strftime('%Y-%m-%d %H:%M:%S')\n"
     ]
    },
    {
     "data": {
      "text/plain": [
       "('mmo780qo69sjg8k5sc5v4d0ks5v3h095', 1733478992, '2024-12-06 09:56:32')"
      ]
     },
     "execution_count": 2,
     "metadata": {},
     "output_type": "execute_result"
    }
   ],
   "source": [
    "import pyTigerGraph as tg\n",
    "hostName = \"https://2cc2f8bde8df444bb60c6fb83491bb8c.i.tgcloud.io\"\n",
    "graphName = \"VWG\"\n",
    "secret = \"m2p8nba0uab7dtthbn4o1b30r8tqgg9a\"\n",
    "userName = \"user_1\"\n",
    "password = \"A1z2e3r4*\"\n",
    "\n",
    "conn = tg.TigerGraphConnection(host=hostName, graphname=graphName, username=userName, password=password)\n",
    "conn.getToken(secret)\n"
   ]
  },
  {
   "cell_type": "code",
   "execution_count": 4,
   "metadata": {},
   "outputs": [],
   "source": [
    "edges_dict = conn.getEdgesByType(\"distribute_to\")"
   ]
  },
  {
   "cell_type": "code",
   "execution_count": 9,
   "metadata": {},
   "outputs": [
    {
     "data": {
      "text/plain": [
       "0"
      ]
     },
     "execution_count": 9,
     "metadata": {},
     "output_type": "execute_result"
    }
   ],
   "source": [
    "edges_dict[0][\"attributes\"][\"Daily_movement\"]"
   ]
  },
  {
   "cell_type": "code",
   "execution_count": 10,
   "metadata": {},
   "outputs": [
    {
     "data": {
      "text/plain": [
       "{'Price': 11, 'Carga': 'Subcargado', 'Capacity': 65, 'Daily_movement': 0}"
      ]
     },
     "execution_count": 10,
     "metadata": {},
     "output_type": "execute_result"
    }
   ],
   "source": [
    "edges_dict[0][\"attributes\"]"
   ]
  },
  {
   "cell_type": "code",
   "execution_count": null,
   "metadata": {},
   "outputs": [],
   "source": []
  }
 ],
 "metadata": {
  "kernelspec": {
   "display_name": ".venv",
   "language": "python",
   "name": "python3"
  },
  "language_info": {
   "codemirror_mode": {
    "name": "ipython",
    "version": 3
   },
   "file_extension": ".py",
   "mimetype": "text/x-python",
   "name": "python",
   "nbconvert_exporter": "python",
   "pygments_lexer": "ipython3",
   "version": "3.12.2"
  }
 },
 "nbformat": 4,
 "nbformat_minor": 2
}
