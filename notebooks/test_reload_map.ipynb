{
 "cells": [
  {
   "cell_type": "code",
   "execution_count": 2,
   "metadata": {},
   "outputs": [],
   "source": [
    "import gradio as gr\n",
    "tigergraph_insights_map = \"https://tools.tgcloud.io/insights/app/67eZLiuqbdk5nNg9QxWQfA/page/gvxC91DiSnRKvPvWzfR9iH/widgetShare/sQFKgLZh8iCgVFrarvUVTr?domain=4da1bd47ec034979919364bf0615f5f4.i&orgName=lis-gordias&clusterid=5fc3b84f-33fb-41b4-b856-2e983aa290f6&TigerGraphToken=3ff2a285-25b4-4a77-98c2-80bfbde3fd73\""
   ]
  },
  {
   "cell_type": "code",
   "execution_count": 8,
   "metadata": {},
   "outputs": [],
   "source": [
    "test = gr.HTML(value = \"\"\" <html lang=\"en\"><head><meta charset=\"UTF-8\"><meta name=\"viewport\" content=\"width=device-width, \n",
    "        initial-scale=1.0\"></head><body><iframe width=\"800\" height=\"800\"\n",
    "        src=\"\"\" + tigergraph_insights_map + \"\"\" \n",
    "        title=\"tigergarph insights\" frameborder=\"0\"></iframe></body></html>\"\"\")   \n",
    "\n",
    "test_text = \"\"\" <html lang=\"en\"><head><meta charset=\"UTF-8\"><meta name=\"viewport\" content=\"width=device-width, \n",
    "        initial-scale=1.0\"></head><body><iframe width=\"800\" height=\"800\"\n",
    "        src=\"\"\" + tigergraph_insights_map + \"\"\" \n",
    "        title=\"tigergarph insights\" frameborder=\"0\"></iframe></body></html>\"\"\"\n"
   ]
  },
  {
   "cell_type": "code",
   "execution_count": 9,
   "metadata": {},
   "outputs": [
    {
     "name": "stdout",
     "output_type": "stream",
     "text": [
      "Running on local URL:  http://127.0.0.1:7873\n",
      "\n",
      "To create a public link, set `share=True` in `launch()`.\n"
     ]
    },
    {
     "data": {
      "text/html": [
       "<div><iframe src=\"http://127.0.0.1:7873/\" width=\"100%\" height=\"500\" allow=\"autoplay; camera; microphone; clipboard-read; clipboard-write;\" frameborder=\"0\" allowfullscreen></iframe></div>"
      ],
      "text/plain": [
       "<IPython.core.display.HTML object>"
      ]
     },
     "metadata": {},
     "output_type": "display_data"
    },
    {
     "data": {
      "text/plain": []
     },
     "execution_count": 9,
     "metadata": {},
     "output_type": "execute_result"
    }
   ],
   "source": [
    "import gradio as gr\n",
    "\n",
    "def reset_html():\n",
    "    return test\n",
    "\n",
    "with gr.Blocks() as demo:\n",
    "    html_element = gr.HTML(value = test_text)\n",
    "    reset_button = gr.Button(\"reset\")\n",
    "\n",
    "    reset_button.click(fn=reset_html, outputs=html_element)\n",
    "\n",
    "demo.launch()"
   ]
  }
 ],
 "metadata": {
  "kernelspec": {
   "display_name": "Python 3",
   "language": "python",
   "name": "python3"
  },
  "language_info": {
   "codemirror_mode": {
    "name": "ipython",
    "version": 3
   },
   "file_extension": ".py",
   "mimetype": "text/x-python",
   "name": "python",
   "nbconvert_exporter": "python",
   "pygments_lexer": "ipython3",
   "version": "3.11.0"
  }
 },
 "nbformat": 4,
 "nbformat_minor": 2
}
