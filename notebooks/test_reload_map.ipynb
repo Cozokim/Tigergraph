{
 "cells": [
  {
   "cell_type": "code",
   "execution_count": 1,
   "metadata": {},
   "outputs": [
    {
     "name": "stdout",
     "output_type": "stream",
     "text": [
      "Running on local URL:  http://127.0.0.1:7860\n",
      "\n",
      "To create a public link, set `share=True` in `launch()`.\n"
     ]
    },
    {
     "data": {
      "text/html": [
       "<div><iframe src=\"http://127.0.0.1:7860/\" width=\"100%\" height=\"500\" allow=\"autoplay; camera; microphone; clipboard-read; clipboard-write;\" frameborder=\"0\" allowfullscreen></iframe></div>"
      ],
      "text/plain": [
       "<IPython.core.display.HTML object>"
      ]
     },
     "metadata": {},
     "output_type": "display_data"
    },
    {
     "data": {
      "text/plain": []
     },
     "execution_count": 1,
     "metadata": {},
     "output_type": "execute_result"
    }
   ],
   "source": [
    "import gradio as gr\n",
    "tigergraph_insights_map = \"https://tools.tgcloud.io/insights/app/67eZLiuqbdk5nNg9QxWQfA/page/gvxC91DiSnRKvPvWzfR9iH/widgetShare/sQFKgLZh8iCgVFrarvUVTr?domain=4da1bd47ec034979919364bf0615f5f4.i&orgName=lis-gordias&clusterid=5fc3b84f-33fb-41b4-b856-2e983aa290f6&TigerGraphToken=3ff2a285-25b4-4a77-98c2-80bfbde3fd73\"\n",
    "test = gr.HTML(value = \"\"\" <html lang=\"en\"><head><meta charset=\"UTF-8\"><meta name=\"viewport\" content=\"width=device-width, \n",
    "        initial-scale=1.0\"></head><body><iframe width=\"800\" height=\"800\"\n",
    "        src=\"\"\" + tigergraph_insights_map + \"\"\" \n",
    "        title=\"tigergarph insights\" frameborder=\"0\"></iframe></body></html>\"\"\")   \n",
    "\n",
    "test_text = test.value\n",
    "\n",
    "import html\n",
    "\n",
    "escaped_html_content = html.escape(test.value)\n",
    "\n",
    "js_reload = f\"\"\"\n",
    "() => {{\n",
    "    const element = document.getElementById(\"html-element\");\n",
    "    element.innerHTML = `{escaped_html_content}`;\n",
    "}}\n",
    "\"\"\"\n",
    "\n",
    "\n",
    "import gradio as gr\n",
    "\n",
    "def reset_html():\n",
    "    return test\n",
    "\n",
    "with gr.Blocks() as demo:\n",
    "    html_element = gr.HTML(value = test_text,elem_id=\"html-element\")\n",
    "    reset_button = gr.Button(\"reset\")\n",
    "\n",
    "    reset_button.click(fn=reset_html, inputs=[], outputs=html_element, js=js_reload)\n",
    "\n",
    "\n",
    "demo.launch()"
   ]
  },
  {
   "cell_type": "code",
   "execution_count": 15,
   "metadata": {},
   "outputs": [
    {
     "name": "stdout",
     "output_type": "stream",
     "text": [
      "Running on local URL:  http://127.0.0.1:7874\n",
      "\n",
      "To create a public link, set `share=True` in `launch()`.\n"
     ]
    },
    {
     "data": {
      "text/html": [
       "<div><iframe src=\"http://127.0.0.1:7874/\" width=\"100%\" height=\"500\" allow=\"autoplay; camera; microphone; clipboard-read; clipboard-write;\" frameborder=\"0\" allowfullscreen></iframe></div>"
      ],
      "text/plain": [
       "<IPython.core.display.HTML object>"
      ]
     },
     "metadata": {},
     "output_type": "display_data"
    },
    {
     "data": {
      "text/plain": []
     },
     "execution_count": 15,
     "metadata": {},
     "output_type": "execute_result"
    }
   ],
   "source": [
    "import gradio as gr\n",
    "\n",
    "# URL de la carte TigerGraph Insights\n",
    "tigergraph_insights_map = \"https://tools.tgcloud.io/insights/app/67eZLiuqbdk5nNg9QxWQfA/page/gvxC91DiSnRKvPvWzfR9iH/widgetShare/sQFKgLZh8iCgVFrarvUVTr?domain=4da1bd47ec034979919364bf0615f5f4.i&orgName=lis-gordias&clusterid=5fc3b84f-33fb-41b4-b856-2e983aa290f6&TigerGraphToken=3ff2a285-25b4-4a77-98c2-80bfbde3fd73\"\n",
    "\n",
    "# Contenu HTML initial avec un iframe dynamique\n",
    "initial_html_content = f\"\"\"\n",
    "<html lang=\"en\">\n",
    "<head>\n",
    "    <meta charset=\"UTF-8\">\n",
    "    <meta name=\"viewport\" content=\"width=device-width, initial-scale=1.0\">\n",
    "</head>\n",
    "<body>\n",
    "    <iframe id=\"dynamic-iframe\" width=\"800\" height=\"800\" src=\"{tigergraph_insights_map}\" title=\"tigergraph insights\" frameborder=\"0\"></iframe>\n",
    "</body>\n",
    "</html>\n",
    "\"\"\"\n",
    "\n",
    "\n",
    "def reset():\n",
    "    initial_html_content = f\"\"\"\n",
    "<html lang=\"en\">\n",
    "<head>\n",
    "    <meta charset=\"UTF-8\">\n",
    "    <meta name=\"viewport\" content=\"width=device-width, initial-scale=1.0\">\n",
    "</head>\n",
    "<body>\n",
    "    <iframe id=\"dynamic-iframe\" width=\"800\" height=\"800\" src=\"{tigergraph_insights_map}\" title=\"tigergaph insights\" frameborder=\"0\"></iframe>\n",
    "</body>\n",
    "</html>\n",
    "\"\"\"\n",
    "\n",
    "    return initial_html_content\n",
    "\n",
    "\n",
    "\n",
    "with gr.Blocks() as demo:\n",
    "    html_element = gr.HTML(value=initial_html_content)\n",
    "    button = gr.Button(\"Reset\")\n",
    "    button.click(reset,inputs=[],outputs=html_element)\n",
    "\n",
    "demo.launch()"
   ]
  },
  {
   "cell_type": "code",
   "execution_count": null,
   "metadata": {},
   "outputs": [],
   "source": []
  }
 ],
 "metadata": {
  "kernelspec": {
   "display_name": "Python 3",
   "language": "python",
   "name": "python3"
  },
  "language_info": {
   "codemirror_mode": {
    "name": "ipython",
    "version": 3
   },
   "file_extension": ".py",
   "mimetype": "text/x-python",
   "name": "python",
   "nbconvert_exporter": "python",
   "pygments_lexer": "ipython3",
   "version": "3.11.0"
  }
 },
 "nbformat": 4,
 "nbformat_minor": 2
}
